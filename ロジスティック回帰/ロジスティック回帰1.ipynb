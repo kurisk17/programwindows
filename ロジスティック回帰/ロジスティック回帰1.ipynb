{
 "cells": [
  {
   "cell_type": "code",
   "execution_count": null,
   "metadata": {},
   "outputs": [],
   "source": [
    "import pandas as pd\n",
    "import numpy as np\n",
    "import os\n",
    "import datetime as dt\n",
    "import calendar\n",
    "from matplotlib import pyplot as plt\n",
    "import scipy.stats as stats\n",
    "import glob\n",
    "\n",
    "from sklearn.model_selection import train_test_split\n",
    "from sklearn.linear_model import LinearRegression\n",
    "from sklearn.preprocessing import StandardScaler\n",
    "\n",
    "from mpl_toolkits.mplot3d import Axes3D  #3Dplot\n",
    "import seaborn as sns\n",
    "import japanize_matplotlib"
   ]
  },
  {
   "cell_type": "code",
   "execution_count": null,
   "metadata": {},
   "outputs": [],
   "source": []
  },
  {
   "cell_type": "code",
   "execution_count": null,
   "metadata": {},
   "outputs": [],
   "source": []
  },
  {
   "cell_type": "code",
   "execution_count": null,
   "metadata": {},
   "outputs": [],
   "source": [
    "files = glob.glob('../../../卒論関連書類/データ/king_history/king_history1/*')\n",
    "version = len(files)-1\n",
    "df_king =pd.read_csv(f'../../../卒論関連書類/データ/king_history/king_history1/king{version}.csv',converters={'DateTime':pd.to_datetime})"
   ]
  },
  {
   "cell_type": "code",
   "execution_count": null,
   "metadata": {},
   "outputs": [],
   "source": [
    "# 差があるなしの基準値を求める。\n",
    "gap_array =np.abs(df_king['gap_price[intra-spot](円/kWh)'].dropna().values)\n",
    "plt.hist(gap_array,bins=1000)\n",
    "plt.axvline(x=4.2,color = 'r')\n",
    "plt.show()\n",
    "\n",
    "np.percentile(gap_array,90)\n",
    "\n",
    "# 4.2円/kWhとする\n"
   ]
  },
  {
   "cell_type": "code",
   "execution_count": null,
   "metadata": {},
   "outputs": [],
   "source": [
    "# 価格差をあるなしに変換\n",
    "df_king['絶対値gap_price[intra-spot](円/kWh)'] = np.abs(df_king['gap_price[intra-spot](円/kWh)'])\n",
    "df_king['gap_judge'] ='ない'\n",
    "df_king.loc[df_king['絶対値gap_price[intra-spot](円/kWh)']>=4.2,['gap_judge']] ='ある'"
   ]
  },
  {
   "cell_type": "code",
   "execution_count": null,
   "metadata": {},
   "outputs": [],
   "source": [
    "df_king.columns"
   ]
  },
  {
   "cell_type": "code",
   "execution_count": null,
   "metadata": {},
   "outputs": [],
   "source": [
    "df_select = df_king[['gap_judge','太陽光絶対値誤差合算(実績-想定)(kWh)','風力絶対値誤差合算(実績-想定)(kWh)','停止・低下ユニット数合計','spot_volume(kWh)','intra_volume（MWh/h）']].dropna()"
   ]
  },
  {
   "cell_type": "code",
   "execution_count": null,
   "metadata": {},
   "outputs": [],
   "source": [
    "# 広域予備率あり\n",
    "df_select = df_king[['gap_judge','広域予備率平均値(%)','太陽光絶対値誤差合算(実績-想定)(kWh)','風力絶対値誤差合算(実績-想定)(kWh)','停止・低下ユニット数合計','spot_volume(kWh)','intra_volume（MWh/h）']].dropna()\n",
    "sns.pairplot(df_select, hue='gap_judge')\n",
    "plt.savefig('../../研究室用のパソコンプログラム実行用/logisticscatter-kouiki.png')\n",
    "plt.show()"
   ]
  },
  {
   "cell_type": "code",
   "execution_count": null,
   "metadata": {},
   "outputs": [],
   "source": [
    "# 広域予備率なし\n",
    "df_select = df_king[['gap_judge','太陽光絶対値誤差合算(実績-想定)(kWh)','風力絶対値誤差合算(実績-想定)(kWh)','停止・低下ユニット数合計','spot_volume(kWh)','intra_volume（MWh/h）']].dropna()\n",
    "sns.pairplot(df_select, hue='gap_judge')\n",
    "plt.savefig('../../研究室用のパソコンプログラム実行用/logisticscatter5.png')\n",
    "plt.show()"
   ]
  },
  {
   "cell_type": "code",
   "execution_count": null,
   "metadata": {},
   "outputs": [],
   "source": [
    "\n",
    "# すべて\n",
    "# 広域予備率なし\n",
    "df_select = df_king[['intra_price(円/kWh)', 'spot_price(円/kWh)',\n",
    "       'gap_price[intra-spot](円/kWh)', 'intra_volume（MWh/h）',\n",
    "       'spot_volume(kWh)', '北電太陽光想定(kWh)', '北電風力想定(kWh)', '北電太陽光実績(kWh)',\n",
    "       '北電風力実績(kWh)', '九電太陽光想定(kWh)', '九電太陽光実績(kWh)', '九電風力想定(kWh)',\n",
    "       '九電風力実績(kWh)', '東電太陽光想定(kWh)', '東電太陽光実績(kWh)', '東電風力想定(kWh)',\n",
    "       '東電風力実績(kWh)', '関電太陽光想定(kWh)', '関電太陽光実績(kWh)', '関電風力想定(kWh)',\n",
    "       '関電風力実績(kWh)', '中国太陽光想定(kWh)', '中国風力想定(kWh)', '中国太陽光実績(kWh)',\n",
    "       '中国風力実績(kWh)', '北海道予備率(%)', '東北予備率(%)', '東京予備率(%)', '中部予備率(%)',\n",
    "       '北陸予備率(%)', '関西予備率(%)', '中国予備率(%)', '四国予備率(%)', '九州予備率(%)', '認可出力合計',\n",
    "       '低下量合計', '停止・低下ユニット数合計', '北電太陽光error(実績-想定)(kWh)',\n",
    "       '北電風力error(実績-想定)(kWh)', '九電太陽光error(実績-想定)(kWh)',\n",
    "       '九電風力error(実績-想定)(kWh)', '東電太陽光error(実績-想定)(kWh)',\n",
    "       '東電風力error(実績-想定)(kWh)', '関電太陽光error(実績-想定)(kWh)',\n",
    "       '関電風力error(実績-想定)(kWh)', '中国太陽光error(実績-想定)(kWh)',\n",
    "       '中国風力error(実績-想定)(kWh)', '絶対値北電太陽光error(実績-想定)(kWh)',\n",
    "       '絶対値北電風力error(実績-想定)(kWh)', '絶対値九電太陽光error(実績-想定)(kWh)',\n",
    "       '絶対値九電風力error(実績-想定)(kWh)', '絶対値東電太陽光error(実績-想定)(kWh)',\n",
    "       '絶対値東電風力error(実績-想定)(kWh)', '絶対値関電太陽光error(実績-想定)(kWh)',\n",
    "       '絶対値関電風力error(実績-想定)(kWh)', '絶対値中国太陽光error(実績-想定)(kWh)',\n",
    "       '絶対値中国風力error(実績-想定)(kWh)', '太陽光誤差合算(実績-想定)(kWh)(ならし)',\n",
    "       '風力誤差合算(実績-想定)(kWh)(ならし)', '太陽光絶対値誤差合算(実績-想定)(kWh)',\n",
    "       '風力絶対値誤差合算(実績-想定)(kWh)', '広域予備率平均値(%)',\n",
    "       '絶対値gap_price[intra-spot](円/kWh)','gap_judge']].dropna()\n",
    "sns.pairplot(df_select, hue='gap_judge')\n",
    "plt.savefig('../../研究室用のパソコンプログラム実行用/logisticscatter-all.png')\n",
    "plt.show()"
   ]
  },
  {
   "cell_type": "code",
   "execution_count": null,
   "metadata": {},
   "outputs": [],
   "source": []
  },
  {
   "cell_type": "code",
   "execution_count": null,
   "metadata": {},
   "outputs": [],
   "source": []
  },
  {
   "cell_type": "code",
   "execution_count": null,
   "metadata": {},
   "outputs": [],
   "source": []
  },
  {
   "cell_type": "code",
   "execution_count": null,
   "metadata": {},
   "outputs": [],
   "source": []
  },
  {
   "cell_type": "code",
   "execution_count": null,
   "metadata": {},
   "outputs": [],
   "source": []
  }
 ],
 "metadata": {
  "kernelspec": {
   "display_name": "DS385",
   "language": "python",
   "name": "python3"
  },
  "language_info": {
   "codemirror_mode": {
    "name": "ipython",
    "version": 3
   },
   "file_extension": ".py",
   "mimetype": "text/x-python",
   "name": "python",
   "nbconvert_exporter": "python",
   "pygments_lexer": "ipython3",
   "version": "3.8.13 (default, Mar 28 2022, 06:59:08) [MSC v.1916 64 bit (AMD64)]"
  },
  "orig_nbformat": 4,
  "vscode": {
   "interpreter": {
    "hash": "7d8d345b9f4de236208f87b7182efc63140f4beb7a3bc51bed98fee98cfef238"
   }
  }
 },
 "nbformat": 4,
 "nbformat_minor": 2
}
