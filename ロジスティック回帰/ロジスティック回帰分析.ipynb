{
 "cells": [
  {
   "cell_type": "code",
   "execution_count": 1,
   "metadata": {},
   "outputs": [],
   "source": [
    "import pandas as pd\n",
    "import numpy as np\n",
    "import os\n",
    "import datetime as dt\n",
    "import calendar\n",
    "from matplotlib import pyplot as plt\n",
    "import scipy.stats as stats\n",
    "import glob\n",
    "\n",
    "from sklearn.model_selection import train_test_split\n",
    "from sklearn.linear_model import LinearRegression\n",
    "from sklearn.preprocessing import StandardScaler\n",
    "\n",
    "from mpl_toolkits.mplot3d import Axes3D  #3Dplot\n",
    "import seaborn as sns\n",
    "import japanize_matplotlib\n",
    "\n",
    "\n",
    "from sklearn.linear_model import LogisticRegression\n",
    "from sklearn.metrics import confusion_matrix, accuracy_score, precision_score, recall_score, f1_score\n",
    "\n",
    "from matplotlib.ticker import ScalarFormatter\n",
    "import matplotlib.ticker as ptick ##これが必要！\n",
    "\n",
    "from sklearn.metrics import roc_auc_score"
   ]
  },
  {
   "cell_type": "code",
   "execution_count": 2,
   "metadata": {},
   "outputs": [
    {
     "data": {
      "text/plain": [
       "Index(['DateTime', 'intra_price(円/kWh)', 'spot_price(円/kWh)',\n",
       "       'gap_price[intra-spot](円/kWh)', 'intra_volume（MWh/h）',\n",
       "       'spot_volume(kWh)', '北電太陽光想定(kWh)', '北電風力想定(kWh)', '北電太陽光実績(kWh)',\n",
       "       '北電風力実績(kWh)', '九電太陽光想定(kWh)', '九電太陽光実績(kWh)', '九電風力想定(kWh)',\n",
       "       '九電風力実績(kWh)', '東電太陽光想定(kWh)', '東電太陽光実績(kWh)', '東電風力想定(kWh)',\n",
       "       '東電風力実績(kWh)', '関電太陽光想定(kWh)', '関電太陽光実績(kWh)', '関電風力想定(kWh)',\n",
       "       '関電風力実績(kWh)', '中国太陽光想定(kWh)', '中国風力想定(kWh)', '中国太陽光実績(kWh)',\n",
       "       '中国風力実績(kWh)', '北海道予備率(%)', '東北予備率(%)', '東京予備率(%)', '中部予備率(%)',\n",
       "       '北陸予備率(%)', '関西予備率(%)', '中国予備率(%)', '四国予備率(%)', '九州予備率(%)', '認可出力合計',\n",
       "       '低下量合計', '停止・低下ユニット数合計', '北電太陽光error(実績-想定)(kWh)',\n",
       "       '北電風力error(実績-想定)(kWh)', '九電太陽光error(実績-想定)(kWh)',\n",
       "       '九電風力error(実績-想定)(kWh)', '東電太陽光error(実績-想定)(kWh)',\n",
       "       '東電風力error(実績-想定)(kWh)', '関電太陽光error(実績-想定)(kWh)',\n",
       "       '関電風力error(実績-想定)(kWh)', '中国太陽光error(実績-想定)(kWh)',\n",
       "       '中国風力error(実績-想定)(kWh)', '絶対値北電太陽光error(実績-想定)(kWh)',\n",
       "       '絶対値北電風力error(実績-想定)(kWh)', '絶対値九電太陽光error(実績-想定)(kWh)',\n",
       "       '絶対値九電風力error(実績-想定)(kWh)', '絶対値東電太陽光error(実績-想定)(kWh)',\n",
       "       '絶対値東電風力error(実績-想定)(kWh)', '絶対値関電太陽光error(実績-想定)(kWh)',\n",
       "       '絶対値関電風力error(実績-想定)(kWh)', '絶対値中国太陽光error(実績-想定)(kWh)',\n",
       "       '絶対値中国風力error(実績-想定)(kWh)', '太陽光誤差合算(実績-想定)(kWh)(ならし)',\n",
       "       '風力誤差合算(実績-想定)(kWh)(ならし)', '太陽光絶対値誤差合算(実績-想定)(kWh)',\n",
       "       '風力絶対値誤差合算(実績-想定)(kWh)', '広域予備率平均値(%)'],\n",
       "      dtype='object')"
      ]
     },
     "execution_count": 2,
     "metadata": {},
     "output_type": "execute_result"
    }
   ],
   "source": [
    "files = glob.glob('../../../卒論関連書類/データ/king_history/king_history1/*')\n",
    "version = len(files)-1\n",
    "df_king =pd.read_csv(f'../../../卒論関連書類/データ/king_history/king_history1/king{version}.csv',converters={'DateTime':pd.to_datetime})\n",
    "\n",
    "df_king.columns"
   ]
  },
  {
   "cell_type": "code",
   "execution_count": 3,
   "metadata": {},
   "outputs": [],
   "source": [
    "def Get_values(target,start_point,end_point):\n",
    "    cols = ['DateTime', 'gap_price[intra-spot](円/kWh)','低下量合計', '停止・低下ユニット数合計','intra_volume（MWh/h）','spot_volume(kWh)', '太陽光絶対値誤差合算(実績-想定)(kWh)',\n",
    "       '風力絶対値誤差合算(実績-想定)(kWh)']\n",
    "\n",
    "    df_select = df_king[cols]\n",
    "\n",
    "    re_col = ['DateTime', '価格差 (時間前市場 - スポット市場) (Yen/kWh)','出力低下量合計 (kW)', '停止・低下ユニット数合計 (基)','時間前市場取引量 (kWh)','スポット市場取引量 (kWh)', '太陽光誤差(実績-想定)合算 (kWh)',\n",
    "        '風力誤差(実績-想定)合算値 (kWh)'\n",
    "        #    , 'エリア毎の広域予備率の平均値(%)'\n",
    "        ]\n",
    "    df_select.columns = re_col\n",
    "    df_select.loc['時間前市場取引量 (kWh)'] =df_select['時間前市場取引量 (kWh)']*1000/2\n",
    "\n",
    "    percent =50\n",
    "    cols___=['DateTime', '価格差 (時間前市場 - スポット市場) (Yen/kWh)']+target\n",
    "    df = df_select[cols___]\n",
    "    df = df[(df['DateTime']>=start_point)&(df['DateTime']<=end_point)].dropna()\n",
    "\n",
    "\n",
    "    df['judge'] =0\n",
    "\n",
    "    df['価格差 (時間前市場 - スポット市場) (Yen/kWh)'] =abs(df['価格差 (時間前市場 - スポット市場) (Yen/kWh)'])\n",
    "    judge_line = np.percentile(df['価格差 (時間前市場 - スポット市場) (Yen/kWh)'],percent)\n",
    "    \n",
    "\n",
    "    df.loc[df['価格差 (時間前市場 - スポット市場) (Yen/kWh)']>judge_line,['judge']] =1\n",
    "    df.drop(columns='価格差 (時間前市場 - スポット市場) (Yen/kWh)')\n",
    "    # print(judge_line,np.median(df['価格差 (時間前市場 - スポット市場) (Yen/kWh)'].values))# judgelineは中央値であることを確認した\n",
    "    return(df)\n",
    "\n",
    "def Get_values2022(target,start_point,end_point):\n",
    "    cols = ['DateTime', 'gap_price[intra-spot](円/kWh)','低下量合計', '停止・低下ユニット数合計','intra_volume（MWh/h）','spot_volume(kWh)', '太陽光絶対値誤差合算(実績-想定)(kWh)',\n",
    "       '風力絶対値誤差合算(実績-想定)(kWh)']\n",
    "\n",
    "    df_select = df_king[cols].dropna()\n",
    "\n",
    "    re_col = ['DateTime', '価格差 (時間前市場 - スポット市場) (Yen/kWh)','出力低下量合計 (kW)', '停止・低下ユニット数合計 (基)','時間前市場取引量 (kWh)','スポット市場取引量 (kWh)', '太陽光誤差(実績-想定)合算 (kWh)',\n",
    "        '風力誤差(実績-想定)合算値 (kWh)'\n",
    "        #    , 'エリア毎の広域予備率の平均値(%)'\n",
    "        ]\n",
    "    df_select.columns = re_col\n",
    "    \n",
    "    df_select.loc['時間前市場取引量 (kWh)'] =df_select['時間前市場取引量 (kWh)']*1000/2\n",
    "\n",
    "    percent =50\n",
    "    cols___=['DateTime', '価格差 (時間前市場 - スポット市場) (Yen/kWh)']+target\n",
    "    df = df_select[cols___]\n",
    "    df = df[(df['DateTime']>=start_point)&(df['DateTime']<=end_point)].dropna()\n",
    "\n",
    "\n",
    "    df['judge'] =0\n",
    "\n",
    "    df['価格差 (時間前市場 - スポット市場) (Yen/kWh)'] =abs(df['価格差 (時間前市場 - スポット市場) (Yen/kWh)'])\n",
    "    judge_line = np.percentile(df['価格差 (時間前市場 - スポット市場) (Yen/kWh)'],percent)\n",
    "    \n",
    "\n",
    "    df.loc[df['価格差 (時間前市場 - スポット市場) (Yen/kWh)']>judge_line,['judge']] =1\n",
    "    df.drop(columns='価格差 (時間前市場 - スポット市場) (Yen/kWh)')\n",
    "    # print(judge_line,np.median(df['価格差 (時間前市場 - スポット市場) (Yen/kWh)'].values))# judgelineは中央値であることを確認した\n",
    "    return(df)\n",
    "\n",
    "def New_getNarashi(target,start_point,end_point):\n",
    "    cols = ['DateTime', 'gap_price[intra-spot](円/kWh)','低下量合計', '停止・低下ユニット数合計','intra_volume（MWh/h）','spot_volume(kWh)', '太陽光誤差合算(実績-想定)(kWh)(ならし)',\n",
    "       '風力誤差合算(実績-想定)(kWh)(ならし)']\n",
    "\n",
    "    df_select = df_king[cols].dropna()\n",
    "\n",
    "    re_col = ['DateTime', '価格差 (時間前市場 - スポット市場) (Yen/kWh)','出力低下量合計 (kW)', '停止・低下ユニット数合計 (基)','時間前市場取引量 (kWh)','スポット市場取引量 (kWh)', '太陽光誤差(実績-想定)合算 (kWh)',\n",
    "        '風力誤差(実績-想定)合算値 (kWh)'\n",
    "        #    , 'エリア毎の広域予備率の平均値(%)'\n",
    "        ]\n",
    "    df_select.columns = re_col\n",
    "    \n",
    "    df_select.loc['時間前市場取引量 (kWh)'] =df_select['時間前市場取引量 (kWh)']*1000/2\n",
    "\n",
    "    percent =50\n",
    "    cols___=['DateTime', '価格差 (時間前市場 - スポット市場) (Yen/kWh)']+target\n",
    "    df = df_select[cols___]\n",
    "    df = df[(df['DateTime']>=start_point)&(df['DateTime']<=end_point)].dropna()\n",
    "\n",
    "\n",
    "    df['judge'] =0\n",
    "\n",
    "    df['価格差 (時間前市場 - スポット市場) (Yen/kWh)'] =abs(df['価格差 (時間前市場 - スポット市場) (Yen/kWh)'])\n",
    "    judge_line = np.percentile(df['価格差 (時間前市場 - スポット市場) (Yen/kWh)'],percent)\n",
    "    \n",
    "\n",
    "    df.loc[df['価格差 (時間前市場 - スポット市場) (Yen/kWh)']>judge_line,['judge']] =1\n",
    "    df.drop(columns='価格差 (時間前市場 - スポット市場) (Yen/kWh)')\n",
    "    # print(judge_line,np.median(df['価格差 (時間前市場 - スポット市場) (Yen/kWh)'].values))# judgelineは中央値であることを確認した\n",
    "    return(df)\n"
   ]
  },
  {
   "cell_type": "code",
   "execution_count": null,
   "metadata": {},
   "outputs": [],
   "source": []
  },
  {
   "cell_type": "code",
   "execution_count": null,
   "metadata": {},
   "outputs": [],
   "source": []
  },
  {
   "cell_type": "code",
   "execution_count": 30,
   "metadata": {},
   "outputs": [],
   "source": [
    "# df_test"
   ]
  },
  {
   "cell_type": "code",
   "execution_count": 31,
   "metadata": {},
   "outputs": [],
   "source": [
    "# 結局やるのは20220101-20220930の、'停止・低下ユニット数合計 (基)','出力低下量合計 (kW)','スポット市場取引量 (kWh)','時間前市場取引量 (kWh)','太陽光誤差(実績-想定)合算 (kWh)',\n",
    "\n",
    "year=2022\n",
    "start_point = dt.datetime(year,1,1,0,0)\n",
    "end_point = dt.datetime(year,12,31,23,30)\n",
    "# target = ['出力低下量合計 (kW)','スポット市場取引量 (kWh)']\n",
    "target = ['停止・低下ユニット数合計 (基)','出力低下量合計 (kW)','スポット市場取引量 (kWh)','時間前市場取引量 (kWh)','太陽光誤差(実績-想定)合算 (kWh)']\n",
    "df_test =Get_values2022(target,start_point,end_point)"
   ]
  },
  {
   "cell_type": "code",
   "execution_count": 5,
   "metadata": {},
   "outputs": [
    {
     "name": "stdout",
     "output_type": "stream",
     "text": [
      "coefficient =  [[-0.07590951  0.26946172  0.29298524  0.26001025]]\n",
      "intercept =  [0.00791982]\n",
      "confusion matrix = \n",
      " [[1218  745]\n",
      " [ 823 1146]]\n",
      "accuracy =  0.6012207527975585\n",
      "precision =  0.6060285563194078\n",
      "recall =  0.5820213306246825\n",
      "f1 score =  0.5937823834196891\n",
      "\n",
      "auc =  0.6566371214341913\n"
     ]
    }
   ],
   "source": [
    "# 結局やるのは20220101-20220930の、'停止・低下ユニット数合計 (基)','出力低下量合計 (kW)','スポット市場取引量 (kWh)','時間前市場取引量 (kWh)','太陽光誤差(実績-想定)合算 (kWh)',\n",
    "\n",
    "year=2022\n",
    "start_point = dt.datetime(year,1,1,0,0)\n",
    "end_point = dt.datetime(year,12,31,23,30)\n",
    "# target = ['出力低下量合計 (kW)','スポット市場取引量 (kWh)']\n",
    "target = [\n",
    "    # '停止・低下ユニット数合計 (基)',\n",
    "    '出力低下量合計 (kW)','スポット市場取引量 (kWh)','時間前市場取引量 (kWh)','太陽光誤差(実績-想定)合算 (kWh)']\n",
    "df_test =Get_values2022(target,start_point,end_point)\n",
    "\n",
    "# 正則化している\n",
    "# 標準化もしてる\n",
    "# df_Y=df_test['judge']\n",
    "df_X = df_test[target]\n",
    "# # 標準化\n",
    "scaler = StandardScaler()\n",
    "scaler.fit(np.array(df_X))\n",
    "df_std = scaler.transform(np.array(df_X))\n",
    "df_std = pd.DataFrame(df_std,columns=df_X.columns)\n",
    "\n",
    "# 目的変数(Y)\n",
    "# Y = np.array(df['gap_judge'])\n",
    "\n",
    "# 説明変数(X)\n",
    "# col_name = ['停止・低下ユニット数合計','spot_volume(kWh)']\n",
    "X = np.array(df_std)\n",
    "# X = np.array(df_X)\n",
    "Y = np.array(df_test['judge'])\n",
    "# データの分割(訓練データとテストデータ)\n",
    "X_train, X_test, Y_train, Y_test = train_test_split(X, Y, test_size=0.3, random_state=0)\n",
    "\n",
    "\n",
    "\n",
    "\n",
    "lr = LogisticRegression(penalty='l2',solver='liblinear',max_iter=1000,C=1) # ロジスティック回帰モデルのインスタンスを作成\n",
    "lr.fit(X_train, Y_train) # ロジスティック回帰モデルの重みを学習\n",
    "\n",
    "print(\"coefficient = \", lr.coef_)\n",
    "print(\"intercept = \", lr.intercept_)\n",
    "\n",
    "\n",
    "Y_pred = lr.predict(X_test)\n",
    "\n",
    "\n",
    "\n",
    "print('confusion matrix = \\n', confusion_matrix(y_true=Y_test, y_pred=Y_pred))\n",
    "print('accuracy = ', accuracy_score(y_true=Y_test, y_pred=Y_pred))\n",
    "print('precision = ', precision_score(y_true=Y_test, y_pred=Y_pred))\n",
    "print('recall = ', recall_score(y_true=Y_test, y_pred=Y_pred))\n",
    "print('f1 score = ', f1_score(y_true=Y_test, y_pred=Y_pred))\n",
    "print('')\n",
    "Y_score = lr.predict_proba(X_test)[:, 1] # 検証データがクラス1に属する確率\n",
    "\n",
    "print('auc = ', roc_auc_score(y_true=Y_test, y_score=Y_score))"
   ]
  },
  {
   "cell_type": "code",
   "execution_count": 97,
   "metadata": {},
   "outputs": [
    {
     "data": {
      "text/plain": [
       "<matplotlib.collections.PathCollection at 0x2cfe215c1f0>"
      ]
     },
     "execution_count": 97,
     "metadata": {},
     "output_type": "execute_result"
    },
    {
     "data": {
      "image/png": "[encoded data removed]",
      "text/plain": [
       "<Figure size 640x480 with 1 Axes>"
      ]
     },
     "metadata": {},
     "output_type": "display_data"
    }
   ],
   "source": [
    "plt.scatter(list(range(len(Y_test))),Y_test,alpha=0.1,color='r',marker='<')\n",
    "plt.scatter(list(range(len(Y_test))),Y_pred,alpha=0.1,color='b',marker='+')"
   ]
  },
  {
   "cell_type": "code",
   "execution_count": null,
   "metadata": {},
   "outputs": [],
   "source": []
  },
  {
   "cell_type": "code",
   "execution_count": null,
   "metadata": {},
   "outputs": [],
   "source": []
  },
  {
   "cell_type": "code",
   "execution_count": null,
   "metadata": {},
   "outputs": [],
   "source": []
  },
  {
   "cell_type": "code",
   "execution_count": 49,
   "metadata": {},
   "outputs": [
    {
     "name": "stdout",
     "output_type": "stream",
     "text": [
      "coefficient =  [[-1.98861605e-08  3.78942685e-08  5.74078630e-07]]\n",
      "intercept =  [-2.3178682e-13]\n",
      "confusion matrix = \n",
      " [[1086  877]\n",
      " [ 778 1191]]\n",
      "accuracy =  0.5790946083418108\n",
      "precision =  0.5759187620889749\n",
      "recall =  0.6048755713560183\n",
      "f1 score =  0.5900421104780779\n",
      "\n",
      "auc =  0.6216700166901803\n"
     ]
    }
   ],
   "source": [
    "# 少なくしてみたらどうなるか\n",
    "\n",
    "year=2022\n",
    "start_point = dt.datetime(year,1,1,0,0)\n",
    "end_point = dt.datetime(year,12,31,23,30)\n",
    "# target = ['出力低下量合計 (kW)','スポット市場取引量 (kWh)']\n",
    "target = ['出力低下量合計 (kW)','スポット市場取引量 (kWh)','太陽光誤差(実績-想定)合算 (kWh)'\n",
    "# ,'風力誤差(実績-想定)合算値 (kWh)'\n",
    "]\n",
    "df_test =Get_values2022(target,start_point,end_point)\n",
    "\n",
    "# 正則化している\n",
    "# 標準化もしてる\n",
    "# df_Y=df_test['judge']\n",
    "df_X = df_test[target]\n",
    "# # 標準化\n",
    "# scaler = StandardScaler()\n",
    "# scaler.fit(np.array(df_X))\n",
    "# df_std = scaler.transform(np.array(df_X))\n",
    "# df_std = pd.DataFrame(df_std,columns=df_X.columns)\n",
    "\n",
    "# 目的変数(Y)\n",
    "# Y = np.array(df['gap_judge'])\n",
    "\n",
    "# 説明変数(X)\n",
    "# col_name = ['停止・低下ユニット数合計','spot_volume(kWh)']\n",
    "# X = np.array(df_std)\n",
    "X = np.array(df_X)\n",
    "Y = np.array(df_test['judge'])\n",
    "# データの分割(訓練データとテストデータ)\n",
    "X_train, X_test, Y_train, Y_test = train_test_split(X, Y, test_size=0.3, random_state=0)\n",
    "\n",
    "\n",
    "\n",
    "\n",
    "lr = LogisticRegression(penalty='l2',solver='liblinear',max_iter=1000,C=100) # ロジスティック回帰モデルのインスタンスを作成\n",
    "lr.fit(X_train, Y_train) # ロジスティック回帰モデルの重みを学習\n",
    "\n",
    "print(\"coefficient = \", lr.coef_)\n",
    "print(\"intercept = \", lr.intercept_)\n",
    "\n",
    "\n",
    "Y_pred = lr.predict(X_test)\n",
    "\n",
    "\n",
    "\n",
    "print('confusion matrix = \\n', confusion_matrix(y_true=Y_test, y_pred=Y_pred))\n",
    "print('accuracy = ', accuracy_score(y_true=Y_test, y_pred=Y_pred))\n",
    "print('precision = ', precision_score(y_true=Y_test, y_pred=Y_pred))\n",
    "print('recall = ', recall_score(y_true=Y_test, y_pred=Y_pred))\n",
    "print('f1 score = ', f1_score(y_true=Y_test, y_pred=Y_pred))\n",
    "print('')\n",
    "Y_score = lr.predict_proba(X_test)[:, 1] # 検証データがクラス1に属する確率\n",
    "\n",
    "print('auc = ', roc_auc_score(y_true=Y_test, y_score=Y_score))"
   ]
  },
  {
   "cell_type": "code",
   "execution_count": 73,
   "metadata": {},
   "outputs": [
    {
     "name": "stdout",
     "output_type": "stream",
     "text": [
      "coefficient =  [[ 4.00824122e-10 -1.94527224e-08  4.92031598e-08  2.62891383e-07\n",
      "   3.64786334e-08]]\n",
      "intercept =  [-7.64465561e-11]\n",
      "confusion matrix = \n",
      " [[ 861 1102]\n",
      " [ 657 1312]]\n",
      "accuracy =  0.5526449643947101\n",
      "precision =  0.5434962717481359\n",
      "recall =  0.6663280853224988\n",
      "f1 score =  0.5986767054528862\n",
      "\n",
      "auc =  0.5814438622903605\n"
     ]
    }
   ],
   "source": [
    "# 結局やるのは20220101-20220930の、'停止・低下ユニット数合計 (基)','出力低下量合計 (kW)','スポット市場取引量 (kWh)','時間前市場取引量 (kWh)','太陽光誤差(実績-想定)合算 (kWh)',\n",
    "\n",
    "# 絶対値の合算じゃないと効果はなかった\n",
    "year=2022\n",
    "start_point = dt.datetime(year,1,1,0,0)\n",
    "end_point = dt.datetime(year,12,31,23,30)\n",
    "# target = ['出力低下量合計 (kW)','スポット市場取引量 (kWh)']\n",
    "target = ['停止・低下ユニット数合計 (基)','出力低下量合計 (kW)','スポット市場取引量 (kWh)','時間前市場取引量 (kWh)','太陽光誤差(実績-想定)合算 (kWh)']\n",
    "df_test =New_getNarashi(target,start_point,end_point)\n",
    "\n",
    "# 正則化している\n",
    "# 標準化もしてる\n",
    "# df_Y=df_test['judge']\n",
    "df_X = df_test[target]\n",
    "# # 標準化\n",
    "# scaler = StandardScaler()\n",
    "# scaler.fit(np.array(df_X))\n",
    "# df_std = scaler.transform(np.array(df_X))\n",
    "# df_std = pd.DataFrame(df_std,columns=df_X.columns)\n",
    "\n",
    "# 目的変数(Y)\n",
    "# Y = np.array(df['gap_judge'])\n",
    "\n",
    "# 説明変数(X)\n",
    "# col_name = ['停止・低下ユニット数合計','spot_volume(kWh)']\n",
    "# X = np.array(df_std)\n",
    "X = np.array(df_X)\n",
    "Y = np.array(df_test['judge'])\n",
    "# データの分割(訓練データとテストデータ)\n",
    "X_train, X_test, Y_train, Y_test = train_test_split(X, Y, test_size=0.3, random_state=0)\n",
    "\n",
    "\n",
    "\n",
    "\n",
    "lr = LogisticRegression(penalty='l2',solver='liblinear',max_iter=1000,C=100) # ロジスティック回帰モデルのインスタンスを作成\n",
    "lr.fit(X_train, Y_train) # ロジスティック回帰モデルの重みを学習\n",
    "\n",
    "print(\"coefficient = \", lr.coef_)\n",
    "print(\"intercept = \", lr.intercept_)\n",
    "\n",
    "\n",
    "Y_pred = lr.predict(X_test)\n",
    "\n",
    "\n",
    "\n",
    "print('confusion matrix = \\n', confusion_matrix(y_true=Y_test, y_pred=Y_pred))\n",
    "print('accuracy = ', accuracy_score(y_true=Y_test, y_pred=Y_pred))\n",
    "print('precision = ', precision_score(y_true=Y_test, y_pred=Y_pred))\n",
    "print('recall = ', recall_score(y_true=Y_test, y_pred=Y_pred))\n",
    "print('f1 score = ', f1_score(y_true=Y_test, y_pred=Y_pred))\n",
    "print('')\n",
    "Y_score = lr.predict_proba(X_test)[:, 1] # 検証データがクラス1に属する確率\n",
    "\n",
    "print('auc = ', roc_auc_score(y_true=Y_test, y_score=Y_score))"
   ]
  },
  {
   "cell_type": "code",
   "execution_count": null,
   "metadata": {},
   "outputs": [],
   "source": [
    ", '太陽光誤差合算(実績-想定)(kWh)(ならし)',\n",
    "       '風力誤差合算(実績-想定)(kWh)(ならし)'"
   ]
  },
  {
   "cell_type": "code",
   "execution_count": 76,
   "metadata": {},
   "outputs": [
    {
     "data": {
      "text/plain": [
       "太陽光誤差合算(実績-想定)(kWh)(ならし)   -4.572063e+06\n",
       "風力誤差合算(実績-想定)(kWh)(ならし)    -2.241268e+05\n",
       "dtype: float64"
      ]
     },
     "execution_count": 76,
     "metadata": {},
     "output_type": "execute_result"
    }
   ],
   "source": [
    "df_king[['太陽光誤差合算(実績-想定)(kWh)(ならし)',\n",
    "       '風力誤差合算(実績-想定)(kWh)(ならし)']].dropna().min()"
   ]
  },
  {
   "cell_type": "code",
   "execution_count": null,
   "metadata": {},
   "outputs": [],
   "source": []
  },
  {
   "cell_type": "code",
   "execution_count": 67,
   "metadata": {},
   "outputs": [],
   "source": [
    "# グラフは４次元だから書けない\n",
    "\n",
    "# plt.scatter(X_test[:,0],Y_score)"
   ]
  },
  {
   "cell_type": "code",
   "execution_count": 64,
   "metadata": {},
   "outputs": [
    {
     "data": {
      "text/plain": [
       "array([30193800., 56907300., 31953400., ..., 44154390., 41755600.,\n",
       "       36414400.])"
      ]
     },
     "execution_count": 64,
     "metadata": {},
     "output_type": "execute_result"
    }
   ],
   "source": [
    "X_test[:,0]"
   ]
  },
  {
   "cell_type": "code",
   "execution_count": 65,
   "metadata": {},
   "outputs": [
    {
     "data": {
      "text/plain": [
       "array([[30193800.        , 19984900.        ,   132625.10176537],\n",
       "       [56907300.        , 16635450.        ,   164399.12736033],\n",
       "       [31953400.        , 24339150.        ,   925307.09052781],\n",
       "       ...,\n",
       "       [44154390.        , 18055450.        ,   127528.24895785],\n",
       "       [41755600.        , 19415900.        ,        0.        ],\n",
       "       [36414400.        , 14827500.        ,        0.        ]])"
      ]
     },
     "execution_count": 65,
     "metadata": {},
     "output_type": "execute_result"
    }
   ],
   "source": [
    "X_test"
   ]
  },
  {
   "cell_type": "code",
   "execution_count": null,
   "metadata": {},
   "outputs": [],
   "source": []
  },
  {
   "cell_type": "code",
   "execution_count": null,
   "metadata": {},
   "outputs": [],
   "source": [
    "from sklearn.metrics import roc_auc_score\n",
    "Y_score = lr.predict_proba(X_test)[:, 1] # 検証データがクラス1に属する確率\n",
    "\n",
    "print('auc = ', roc_auc_score(y_true=Y_test, y_score=Y_score))\n"
   ]
  },
  {
   "cell_type": "code",
   "execution_count": 20,
   "metadata": {},
   "outputs": [
    {
     "name": "stdout",
     "output_type": "stream",
     "text": [
      "auc =  0.6217059790998893\n"
     ]
    }
   ],
   "source": [
    "from sklearn.metrics import roc_auc_score\n",
    "Y_score = lr.predict_proba(X_test)[:, 1] # 検証データがクラス1に属する確率\n",
    "\n",
    "print('auc = ', roc_auc_score(y_true=Y_test, y_score=Y_score))\n"
   ]
  },
  {
   "cell_type": "code",
   "execution_count": null,
   "metadata": {},
   "outputs": [],
   "source": []
  },
  {
   "cell_type": "code",
   "execution_count": 5,
   "metadata": {},
   "outputs": [
    {
     "name": "stdout",
     "output_type": "stream",
     "text": [
      "coefficient =  [[-0.1081072  0.2834366]]\n",
      "intercept =  [0.01258483]\n",
      "confusion matrix = \n",
      " [[1445 1241]\n",
      " [1079 1491]]\n",
      "accuracy =  0.558599695585997\n",
      "precision =  0.5457540263543191\n",
      "recall =  0.5801556420233464\n",
      "f1 score =  0.5624292719728404\n"
     ]
    }
   ],
   "source": [
    "# 正則化している\n",
    "# 標準化もしてる\n",
    "# df_Y=df_test['judge']\n",
    "df_X = df_test[target]\n",
    "# 標準化\n",
    "scaler = StandardScaler()\n",
    "scaler.fit(np.array(df_X))\n",
    "df_std = scaler.transform(np.array(df_X))\n",
    "df_std = pd.DataFrame(df_std,columns=df_X.columns)\n",
    "\n",
    "# 目的変数(Y)\n",
    "# Y = np.array(df['gap_judge'])\n",
    "\n",
    "# 説明変数(X)\n",
    "# col_name = ['停止・低下ユニット数合計','spot_volume(kWh)']\n",
    "X = np.array(df_std)\n",
    "Y = np.array(df_test['judge'])\n",
    "# データの分割(訓練データとテストデータ)\n",
    "X_train, X_test, Y_train, Y_test = train_test_split(X, Y, test_size=0.3, random_state=0)\n",
    "\n",
    "\n",
    "\n",
    "\n",
    "lr = LogisticRegression(penalty='l1',solver='liblinear') # ロジスティック回帰モデルのインスタンスを作成\n",
    "lr.fit(X_train, Y_train) # ロジスティック回帰モデルの重みを学習\n",
    "\n",
    "print(\"coefficient = \", lr.coef_)\n",
    "print(\"intercept = \", lr.intercept_)\n",
    "\n",
    "\n",
    "Y_pred = lr.predict(X_test)\n",
    "\n",
    "\n",
    "\n",
    "print('confusion matrix = \\n', confusion_matrix(y_true=Y_test, y_pred=Y_pred))\n",
    "print('accuracy = ', accuracy_score(y_true=Y_test, y_pred=Y_pred))\n",
    "print('precision = ', precision_score(y_true=Y_test, y_pred=Y_pred))\n",
    "print('recall = ', recall_score(y_true=Y_test, y_pred=Y_pred))\n",
    "print('f1 score = ', f1_score(y_true=Y_test, y_pred=Y_pred))\n",
    "\n"
   ]
  },
  {
   "cell_type": "code",
   "execution_count": null,
   "metadata": {},
   "outputs": [],
   "source": []
  },
  {
   "cell_type": "code",
   "execution_count": 7,
   "metadata": {},
   "outputs": [
    {
     "name": "stderr",
     "output_type": "stream",
     "text": [
      "C:\\Users\\Annex Rakyu\\AppData\\Local\\Temp\\ipykernel_25576\\2737269267.py:12: SettingWithCopyWarning: \n",
      "A value is trying to be set on a copy of a slice from a DataFrame.\n",
      "Try using .loc[row_indexer,col_indexer] = value instead\n",
      "\n",
      "See the caveats in the documentation: https://pandas.pydata.org/pandas-docs/stable/user_guide/indexing.html#returning-a-view-versus-a-copy\n",
      "  df_select['時間前市場取引量 (kWh)'] =df_select['時間前市場取引量 (kWh)']*1000/2\n"
     ]
    },
    {
     "name": "stdout",
     "output_type": "stream",
     "text": [
      "coefficient =  [[-9.40008910e-09  1.07687976e-07]]\n",
      "intercept =  [-1.50352343]\n",
      "confusion matrix = \n",
      " [[1443 1243]\n",
      " [1075 1495]]\n",
      "accuracy =  0.5589802130898022\n",
      "precision =  0.5460189919649379\n",
      "recall =  0.5817120622568094\n",
      "f1 score =  0.5633006782215524\n"
     ]
    },
    {
     "name": "stderr",
     "output_type": "stream",
     "text": [
      "c:\\Users\\Annex Rakyu\\.conda\\envs\\DS385\\lib\\site-packages\\sklearn\\svm\\_base.py:1206: ConvergenceWarning: Liblinear failed to converge, increase the number of iterations.\n",
      "  warnings.warn(\n"
     ]
    }
   ],
   "source": [
    "year=2022\n",
    "start_point = dt.datetime(year,1,1,0,0)\n",
    "end_point = dt.datetime(year,12,31,23,30)\n",
    "target = ['出力低下量合計 (kW)','スポット市場取引量 (kWh)']\n",
    "df_test =Get_values(target,start_point,end_point)\n",
    "\n",
    "# 正則化している\n",
    "# df_Y=df_test['judge']\n",
    "df_X = df_test[target]\n",
    "# 標準化\n",
    "# scaler = StandardScaler()\n",
    "# scaler.fit(np.array(df_X))\n",
    "# df_std = scaler.transform(np.array(df_X))\n",
    "# df_std = pd.DataFrame(df_std,columns=df_X.columns)\n",
    "\n",
    "# 目的変数(Y)\n",
    "# Y = np.array(df['gap_judge'])\n",
    "\n",
    "# 説明変数(X)\n",
    "# col_name = ['停止・低下ユニット数合計','spot_volume(kWh)']\n",
    "X = np.array(df_X)\n",
    "Y = np.array(df_test['judge'])\n",
    "# データの分割(訓練データとテストデータ)\n",
    "X_train, X_test, Y_train, Y_test = train_test_split(X, Y, test_size=0.3, random_state=0)\n",
    "\n",
    "\n",
    "\n",
    "\n",
    "lr = LogisticRegression(penalty='l1',solver='liblinear',max_iter=1000) # ロジスティック回帰モデルのインスタンスを作成\n",
    "lr.fit(X_train, Y_train) # ロジスティック回帰モデルの重みを学習\n",
    "\n",
    "print(\"coefficient = \", lr.coef_)\n",
    "print(\"intercept = \", lr.intercept_)\n",
    "\n",
    "\n",
    "Y_pred = lr.predict(X_test)\n",
    "\n",
    "\n",
    "\n",
    "print('confusion matrix = \\n', confusion_matrix(y_true=Y_test, y_pred=Y_pred))\n",
    "print('accuracy = ', accuracy_score(y_true=Y_test, y_pred=Y_pred))\n",
    "print('precision = ', precision_score(y_true=Y_test, y_pred=Y_pred))\n",
    "print('recall = ', recall_score(y_true=Y_test, y_pred=Y_pred))\n",
    "print('f1 score = ', f1_score(y_true=Y_test, y_pred=Y_pred))"
   ]
  },
  {
   "cell_type": "code",
   "execution_count": 29,
   "metadata": {},
   "outputs": [
    {
     "data": {
      "text/html": [
       "<div>\n",
       "<style scoped>\n",
       "    .dataframe tbody tr th:only-of-type {\n",
       "        vertical-align: middle;\n",
       "    }\n",
       "\n",
       "    .dataframe tbody tr th {\n",
       "        vertical-align: top;\n",
       "    }\n",
       "\n",
       "    .dataframe thead th {\n",
       "        text-align: right;\n",
       "    }\n",
       "</style>\n",
       "<table border=\"1\" class=\"dataframe\">\n",
       "  <thead>\n",
       "    <tr style=\"text-align: right;\">\n",
       "      <th></th>\n",
       "      <th>DateTime</th>\n",
       "      <th>価格差 (時間前市場 - スポット市場) (Yen/kWh)</th>\n",
       "      <th>風力誤差(実績-想定)合算値 (kWh)</th>\n",
       "      <th>judge</th>\n",
       "    </tr>\n",
       "  </thead>\n",
       "  <tbody>\n",
       "    <tr>\n",
       "      <th>66655</th>\n",
       "      <td>2022-01-01 00:00:00</td>\n",
       "      <td>5.11</td>\n",
       "      <td>24983.843486</td>\n",
       "      <td>1</td>\n",
       "    </tr>\n",
       "    <tr>\n",
       "      <th>66656</th>\n",
       "      <td>2022-01-01 00:30:00</td>\n",
       "      <td>5.93</td>\n",
       "      <td>27201.553453</td>\n",
       "      <td>1</td>\n",
       "    </tr>\n",
       "    <tr>\n",
       "      <th>66657</th>\n",
       "      <td>2022-01-01 01:00:00</td>\n",
       "      <td>5.71</td>\n",
       "      <td>30913.700497</td>\n",
       "      <td>1</td>\n",
       "    </tr>\n",
       "    <tr>\n",
       "      <th>66658</th>\n",
       "      <td>2022-01-01 01:30:00</td>\n",
       "      <td>3.27</td>\n",
       "      <td>27555.744709</td>\n",
       "      <td>1</td>\n",
       "    </tr>\n",
       "    <tr>\n",
       "      <th>66659</th>\n",
       "      <td>2022-01-01 02:00:00</td>\n",
       "      <td>3.54</td>\n",
       "      <td>24570.421317</td>\n",
       "      <td>1</td>\n",
       "    </tr>\n",
       "    <tr>\n",
       "      <th>...</th>\n",
       "      <td>...</td>\n",
       "      <td>...</td>\n",
       "      <td>...</td>\n",
       "      <td>...</td>\n",
       "    </tr>\n",
       "    <tr>\n",
       "      <th>79754</th>\n",
       "      <td>2022-09-30 21:30:00</td>\n",
       "      <td>1.92</td>\n",
       "      <td>42780.147236</td>\n",
       "      <td>0</td>\n",
       "    </tr>\n",
       "    <tr>\n",
       "      <th>79755</th>\n",
       "      <td>2022-09-30 22:00:00</td>\n",
       "      <td>0.13</td>\n",
       "      <td>36939.208319</td>\n",
       "      <td>0</td>\n",
       "    </tr>\n",
       "    <tr>\n",
       "      <th>79756</th>\n",
       "      <td>2022-09-30 22:30:00</td>\n",
       "      <td>0.57</td>\n",
       "      <td>42335.191793</td>\n",
       "      <td>0</td>\n",
       "    </tr>\n",
       "    <tr>\n",
       "      <th>79757</th>\n",
       "      <td>2022-09-30 23:00:00</td>\n",
       "      <td>0.29</td>\n",
       "      <td>38608.958776</td>\n",
       "      <td>0</td>\n",
       "    </tr>\n",
       "    <tr>\n",
       "      <th>79758</th>\n",
       "      <td>2022-09-30 23:30:00</td>\n",
       "      <td>0.58</td>\n",
       "      <td>40005.252453</td>\n",
       "      <td>0</td>\n",
       "    </tr>\n",
       "  </tbody>\n",
       "</table>\n",
       "<p>13104 rows × 4 columns</p>\n",
       "</div>"
      ],
      "text/plain": [
       "                 DateTime  価格差 (時間前市場 - スポット市場) (Yen/kWh)  \\\n",
       "66655 2022-01-01 00:00:00                            5.11   \n",
       "66656 2022-01-01 00:30:00                            5.93   \n",
       "66657 2022-01-01 01:00:00                            5.71   \n",
       "66658 2022-01-01 01:30:00                            3.27   \n",
       "66659 2022-01-01 02:00:00                            3.54   \n",
       "...                   ...                             ...   \n",
       "79754 2022-09-30 21:30:00                            1.92   \n",
       "79755 2022-09-30 22:00:00                            0.13   \n",
       "79756 2022-09-30 22:30:00                            0.57   \n",
       "79757 2022-09-30 23:00:00                            0.29   \n",
       "79758 2022-09-30 23:30:00                            0.58   \n",
       "\n",
       "       風力誤差(実績-想定)合算値 (kWh)  judge  \n",
       "66655          24983.843486      1  \n",
       "66656          27201.553453      1  \n",
       "66657          30913.700497      1  \n",
       "66658          27555.744709      1  \n",
       "66659          24570.421317      1  \n",
       "...                     ...    ...  \n",
       "79754          42780.147236      0  \n",
       "79755          36939.208319      0  \n",
       "79756          42335.191793      0  \n",
       "79757          38608.958776      0  \n",
       "79758          40005.252453      0  \n",
       "\n",
       "[13104 rows x 4 columns]"
      ]
     },
     "execution_count": 29,
     "metadata": {},
     "output_type": "execute_result"
    }
   ],
   "source": [
    "df"
   ]
  },
  {
   "cell_type": "code",
   "execution_count": null,
   "metadata": {},
   "outputs": [],
   "source": []
  },
  {
   "cell_type": "code",
   "execution_count": 10,
   "metadata": {},
   "outputs": [
    {
     "name": "stderr",
     "output_type": "stream",
     "text": [
      "C:\\Users\\Annex Rakyu\\AppData\\Local\\Temp\\ipykernel_25576\\2737269267.py:12: SettingWithCopyWarning: \n",
      "A value is trying to be set on a copy of a slice from a DataFrame.\n",
      "Try using .loc[row_indexer,col_indexer] = value instead\n",
      "\n",
      "See the caveats in the documentation: https://pandas.pydata.org/pandas-docs/stable/user_guide/indexing.html#returning-a-view-versus-a-copy\n",
      "  df_select['時間前市場取引量 (kWh)'] =df_select['時間前市場取引量 (kWh)']*1000/2\n"
     ]
    },
    {
     "name": "stdout",
     "output_type": "stream",
     "text": [
      "coefficient =  [[ 1.02272403e-09 -2.78671738e-03  1.57328247e-06  1.00543478e-07\n",
      "   4.90525217e-07 -5.57715000e-07]]\n",
      "intercept =  [-2.14190954]\n",
      "confusion matrix = \n",
      " [[1215  748]\n",
      " [ 812 1157]]\n",
      "accuracy =  0.6032553407934893\n",
      "precision =  0.6073490813648293\n",
      "recall =  0.5876079228034535\n",
      "f1 score =  0.5973154362416107\n"
     ]
    },
    {
     "name": "stderr",
     "output_type": "stream",
     "text": [
      "c:\\Users\\Annex Rakyu\\.conda\\envs\\DS385\\lib\\site-packages\\sklearn\\svm\\_base.py:1206: ConvergenceWarning: Liblinear failed to converge, increase the number of iterations.\n",
      "  warnings.warn(\n"
     ]
    }
   ],
   "source": [
    "year=2022\n",
    "start_point = dt.datetime(year,1,1,0,0)\n",
    "end_point = dt.datetime(year,12,31,23,30)\n",
    "target = ['出力低下量合計 (kW)', '停止・低下ユニット数合計 (基)','時間前市場取引量 (kWh)','スポット市場取引量 (kWh)', '太陽光誤差(実績-想定)合算 (kWh)',\n",
    "        '風力誤差(実績-想定)合算値 (kWh)']\n",
    "df_test =Get_values(target,start_point,end_point)\n",
    "\n",
    "# 正則化している\n",
    "# df_Y=df_test['judge']\n",
    "df_X = df_test[target]\n",
    "# 標準化\n",
    "# scaler = StandardScaler()\n",
    "# scaler.fit(np.array(df_X))\n",
    "# df_std = scaler.transform(np.array(df_X))\n",
    "# df_std = pd.DataFrame(df_std,columns=df_X.columns)\n",
    "\n",
    "# 目的変数(Y)\n",
    "# Y = np.array(df['gap_judge'])\n",
    "\n",
    "# 説明変数(X)\n",
    "# col_name = ['停止・低下ユニット数合計','spot_volume(kWh)']\n",
    "X = np.array(df_X)\n",
    "Y = np.array(df_test['judge'])\n",
    "# データの分割(訓練データとテストデータ)\n",
    "X_train, X_test, Y_train, Y_test = train_test_split(X, Y, test_size=0.3, random_state=0)\n",
    "\n",
    "\n",
    "\n",
    "\n",
    "lr = LogisticRegression(penalty='l1',solver='liblinear',max_iter=1000) # ロジスティック回帰モデルのインスタンスを作成\n",
    "lr.fit(X_train, Y_train) # ロジスティック回帰モデルの重みを学習\n",
    "\n",
    "print(\"coefficient = \", lr.coef_)\n",
    "print(\"intercept = \", lr.intercept_)\n",
    "\n",
    "\n",
    "Y_pred = lr.predict(X_test)\n",
    "\n",
    "\n",
    "\n",
    "print('confusion matrix = \\n', confusion_matrix(y_true=Y_test, y_pred=Y_pred))\n",
    "print('accuracy = ', accuracy_score(y_true=Y_test, y_pred=Y_pred))\n",
    "print('precision = ', precision_score(y_true=Y_test, y_pred=Y_pred))\n",
    "print('recall = ', recall_score(y_true=Y_test, y_pred=Y_pred))\n",
    "print('f1 score = ', f1_score(y_true=Y_test, y_pred=Y_pred))"
   ]
  },
  {
   "cell_type": "code",
   "execution_count": null,
   "metadata": {},
   "outputs": [],
   "source": []
  },
  {
   "cell_type": "code",
   "execution_count": null,
   "metadata": {},
   "outputs": [],
   "source": []
  },
  {
   "cell_type": "code",
   "execution_count": null,
   "metadata": {},
   "outputs": [],
   "source": []
  },
  {
   "cell_type": "code",
   "execution_count": 23,
   "metadata": {},
   "outputs": [
    {
     "name": "stdout",
     "output_type": "stream",
     "text": [
      "coefficient =  [[-0.10811531  0.28343473]]\n",
      "intercept =  [0.01258498]\n",
      "confusion matrix = \n",
      " [[1445 1241]\n",
      " [1079 1491]]\n",
      "accuracy =  0.558599695585997\n",
      "precision =  0.5457540263543191\n",
      "recall =  0.5801556420233464\n",
      "f1 score =  0.5624292719728404\n"
     ]
    }
   ],
   "source": [
    "# df_Y=df_test['judge']\n",
    "df_X = df_test[target]\n",
    "# 標準化\n",
    "scaler = StandardScaler()\n",
    "scaler.fit(np.array(df_X))\n",
    "df_std = scaler.transform(np.array(df_X))\n",
    "df_std = pd.DataFrame(df_std,columns=df_X.columns)\n",
    "\n",
    "# 目的変数(Y)\n",
    "# Y = np.array(df['gap_judge'])\n",
    "\n",
    "# 説明変数(X)\n",
    "# col_name = ['停止・低下ユニット数合計','spot_volume(kWh)']\n",
    "X = np.array(df_std)\n",
    "Y = np.array(df_test['judge'])\n",
    "# データの分割(訓練データとテストデータ)\n",
    "X_train, X_test, Y_train, Y_test = train_test_split(X, Y, test_size=0.3, random_state=0)\n",
    "\n",
    "\n",
    "\n",
    "\n",
    "lr = LogisticRegression(penalty='l1', solver='liblinear') # ロジスティック回帰モデルのインスタンスを作成\n",
    "lr.fit(X_train, Y_train) # ロジスティック回帰モデルの重みを学習\n",
    "\n",
    "print(\"coefficient = \", lr.coef_)\n",
    "print(\"intercept = \", lr.intercept_)\n",
    "\n",
    "\n",
    "Y_pred = lr.predict(X_test)\n",
    "\n",
    "\n",
    "\n",
    "print('confusion matrix = \\n', confusion_matrix(y_true=Y_test, y_pred=Y_pred))\n",
    "print('accuracy = ', accuracy_score(y_true=Y_test, y_pred=Y_pred))\n",
    "print('precision = ', precision_score(y_true=Y_test, y_pred=Y_pred))\n",
    "print('recall = ', recall_score(y_true=Y_test, y_pred=Y_pred))\n",
    "print('f1 score = ', f1_score(y_true=Y_test, y_pred=Y_pred))"
   ]
  },
  {
   "cell_type": "code",
   "execution_count": 24,
   "metadata": {},
   "outputs": [
    {
     "data": {
      "text/html": [
       "<div>\n",
       "<style scoped>\n",
       "    .dataframe tbody tr th:only-of-type {\n",
       "        vertical-align: middle;\n",
       "    }\n",
       "\n",
       "    .dataframe tbody tr th {\n",
       "        vertical-align: top;\n",
       "    }\n",
       "\n",
       "    .dataframe thead th {\n",
       "        text-align: right;\n",
       "    }\n",
       "</style>\n",
       "<table border=\"1\" class=\"dataframe\">\n",
       "  <thead>\n",
       "    <tr style=\"text-align: right;\">\n",
       "      <th></th>\n",
       "      <th>出力低下量合計 (kW)</th>\n",
       "      <th>スポット市場取引量 (kWh)</th>\n",
       "    </tr>\n",
       "  </thead>\n",
       "  <tbody>\n",
       "    <tr>\n",
       "      <th>66655</th>\n",
       "      <td>29902740.0</td>\n",
       "      <td>16671250</td>\n",
       "    </tr>\n",
       "    <tr>\n",
       "      <th>66656</th>\n",
       "      <td>27860240.0</td>\n",
       "      <td>17250450</td>\n",
       "    </tr>\n",
       "    <tr>\n",
       "      <th>66657</th>\n",
       "      <td>27860240.0</td>\n",
       "      <td>17568350</td>\n",
       "    </tr>\n",
       "    <tr>\n",
       "      <th>66658</th>\n",
       "      <td>27860240.0</td>\n",
       "      <td>17867750</td>\n",
       "    </tr>\n",
       "    <tr>\n",
       "      <th>66659</th>\n",
       "      <td>27860240.0</td>\n",
       "      <td>17997900</td>\n",
       "    </tr>\n",
       "    <tr>\n",
       "      <th>...</th>\n",
       "      <td>...</td>\n",
       "      <td>...</td>\n",
       "    </tr>\n",
       "    <tr>\n",
       "      <th>84170</th>\n",
       "      <td>49386670.0</td>\n",
       "      <td>19267150</td>\n",
       "    </tr>\n",
       "    <tr>\n",
       "      <th>84171</th>\n",
       "      <td>50888670.0</td>\n",
       "      <td>19020650</td>\n",
       "    </tr>\n",
       "    <tr>\n",
       "      <th>84172</th>\n",
       "      <td>50888670.0</td>\n",
       "      <td>18906400</td>\n",
       "    </tr>\n",
       "    <tr>\n",
       "      <th>84173</th>\n",
       "      <td>50888670.0</td>\n",
       "      <td>18719700</td>\n",
       "    </tr>\n",
       "    <tr>\n",
       "      <th>84174</th>\n",
       "      <td>50888670.0</td>\n",
       "      <td>18228100</td>\n",
       "    </tr>\n",
       "  </tbody>\n",
       "</table>\n",
       "<p>17520 rows × 2 columns</p>\n",
       "</div>"
      ],
      "text/plain": [
       "       出力低下量合計 (kW)  スポット市場取引量 (kWh)\n",
       "66655    29902740.0         16671250\n",
       "66656    27860240.0         17250450\n",
       "66657    27860240.0         17568350\n",
       "66658    27860240.0         17867750\n",
       "66659    27860240.0         17997900\n",
       "...             ...              ...\n",
       "84170    49386670.0         19267150\n",
       "84171    50888670.0         19020650\n",
       "84172    50888670.0         18906400\n",
       "84173    50888670.0         18719700\n",
       "84174    50888670.0         18228100\n",
       "\n",
       "[17520 rows x 2 columns]"
      ]
     },
     "execution_count": 24,
     "metadata": {},
     "output_type": "execute_result"
    }
   ],
   "source": [
    "df_X"
   ]
  },
  {
   "cell_type": "code",
   "execution_count": null,
   "metadata": {},
   "outputs": [],
   "source": []
  },
  {
   "cell_type": "code",
   "execution_count": null,
   "metadata": {},
   "outputs": [],
   "source": []
  },
  {
   "cell_type": "code",
   "execution_count": null,
   "metadata": {},
   "outputs": [],
   "source": []
  },
  {
   "cell_type": "code",
   "execution_count": null,
   "metadata": {},
   "outputs": [],
   "source": []
  },
  {
   "cell_type": "code",
   "execution_count": null,
   "metadata": {},
   "outputs": [],
   "source": []
  },
  {
   "cell_type": "code",
   "execution_count": null,
   "metadata": {},
   "outputs": [],
   "source": []
  },
  {
   "cell_type": "code",
   "execution_count": null,
   "metadata": {},
   "outputs": [],
   "source": []
  },
  {
   "cell_type": "code",
   "execution_count": null,
   "metadata": {},
   "outputs": [],
   "source": []
  },
  {
   "cell_type": "code",
   "execution_count": null,
   "metadata": {},
   "outputs": [],
   "source": []
  },
  {
   "cell_type": "code",
   "execution_count": null,
   "metadata": {},
   "outputs": [],
   "source": []
  },
  {
   "cell_type": "code",
   "execution_count": null,
   "metadata": {},
   "outputs": [],
   "source": []
  },
  {
   "cell_type": "code",
   "execution_count": null,
   "metadata": {},
   "outputs": [],
   "source": []
  },
  {
   "cell_type": "code",
   "execution_count": 4,
   "metadata": {},
   "outputs": [
    {
     "name": "stderr",
     "output_type": "stream",
     "text": [
      "C:\\Users\\Annex Rakyu\\AppData\\Local\\Temp\\ipykernel_17056\\2069483604.py:11: SettingWithCopyWarning: \n",
      "A value is trying to be set on a copy of a slice from a DataFrame.\n",
      "Try using .loc[row_indexer,col_indexer] = value instead\n",
      "\n",
      "See the caveats in the documentation: https://pandas.pydata.org/pandas-docs/stable/user_guide/indexing.html#returning-a-view-versus-a-copy\n",
      "  df_select['時間前市場取引量 (kWh)'] =df_select['時間前市場取引量 (kWh)']*1000/2\n"
     ]
    }
   ],
   "source": [
    "\n",
    "cols = ['DateTime', 'gap_price[intra-spot](円/kWh)','低下量合計', '停止・低下ユニット数合計','intra_volume（MWh/h）','spot_volume(kWh)', '太陽光絶対値誤差合算(実績-想定)(kWh)',\n",
    "       '風力絶対値誤差合算(実績-想定)(kWh)']\n",
    "\n",
    "df_select = df_king[cols]\n",
    "\n",
    "re_col = ['DateTime', '価格差 (時間前市場 - スポット市場) (Yen/kWh)','出力低下量合計 (kW)', '停止・低下ユニット数合計 (基)','時間前市場取引量 (kWh)','スポット市場取引量 (kWh)', '太陽光誤差(実績-想定)合算 (kWh)',\n",
    "       '風力誤差(実績-想定)合算値 (kWh)'\n",
    "    #    , 'エリア毎の広域予備率の平均値(%)'\n",
    "       ]\n",
    "df_select.columns = re_col\n",
    "df_select['時間前市場取引量 (kWh)'] =df_select['時間前市場取引量 (kWh)']*1000/2\n",
    "\n",
    "percent =50\n",
    "# これは各年\n",
    "\n",
    "# for year in range(2018,2023):\n",
    "\n",
    "# for year in range(2018,2023):\n",
    "year=2022\n",
    "start_point = dt.datetime(year,1,1,0,0)\n",
    "end_point = dt.datetime(year,12,31,23,30)\n",
    "\n",
    "# まず、データがある分すべての相関をとる。\n",
    "target =re_col[2:]\n",
    "for name in target:\n",
    "    df = df_select[['DateTime', '価格差 (時間前市場 - スポット市場) (Yen/kWh)',name]]\n",
    "    df = df[(df['DateTime']>=start_point)&(df['DateTime']<=end_point)].dropna()\n",
    "\n",
    "\n",
    "    df['judge'] =0\n",
    "\n",
    "    df['価格差 (時間前市場 - スポット市場) (Yen/kWh)'] =abs(df['価格差 (時間前市場 - スポット市場) (Yen/kWh)'])\n",
    "    judge_line = np.percentile(df['価格差 (時間前市場 - スポット市場) (Yen/kWh)'],percent)\n",
    "\n",
    "    df.loc[df['価格差 (時間前市場 - スポット市場) (Yen/kWh)']>judge_line,['judge']] =1\n",
    "\n",
    "    value0 = df[df['judge']==0][name].values\n",
    "    value1 = df[df['judge']==1][name].values\n",
    "    times =df['DateTime'].dt.date.values\n",
    "\n"
   ]
  }
 ],
 "metadata": {
  "kernelspec": {
   "display_name": "DS385",
   "language": "python",
   "name": "python3"
  },
  "language_info": {
   "codemirror_mode": {
    "name": "ipython",
    "version": 3
   },
   "file_extension": ".py",
   "mimetype": "text/x-python",
   "name": "python",
   "nbconvert_exporter": "python",
   "pygments_lexer": "ipython3",
   "version": "3.8.13"
  },
  "orig_nbformat": 4,
  "vscode": {
   "interpreter": {
    "hash": "7d8d345b9f4de236208f87b7182efc63140f4beb7a3bc51bed98fee98cfef238"
   }
  }
 },
 "nbformat": 4,
 "nbformat_minor": 2
}
