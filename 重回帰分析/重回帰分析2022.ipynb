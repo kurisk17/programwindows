{
 "cells": [
  {
   "cell_type": "code",
   "execution_count": 1,
   "metadata": {},
   "outputs": [],
   "source": [
    "import pandas as pd\n",
    "import numpy as np\n",
    "import os\n",
    "import datetime as dt\n",
    "import calendar\n",
    "from matplotlib import pyplot as plt\n",
    "import scipy.stats as stats\n",
    "import glob\n",
    "\n",
    "from sklearn.model_selection import train_test_split\n",
    "from sklearn.linear_model import LinearRegression\n",
    "from sklearn.preprocessing import StandardScaler\n",
    " "
   ]
  },
  {
   "cell_type": "code",
   "execution_count": null,
   "metadata": {},
   "outputs": [],
   "source": []
  },
  {
   "cell_type": "code",
   "execution_count": 4,
   "metadata": {},
   "outputs": [
    {
     "data": {
      "text/plain": [
       "20"
      ]
     },
     "execution_count": 4,
     "metadata": {},
     "output_type": "execute_result"
    }
   ],
   "source": [
    "# 重回帰分析　広域予備率あり\n",
    "files = glob.glob('../../../卒論関連書類/データ/king_history/king_history1/*')\n",
    "len(files)"
   ]
  },
  {
   "cell_type": "code",
   "execution_count": 7,
   "metadata": {},
   "outputs": [
    {
     "name": "stdout",
     "output_type": "stream",
     "text": [
      "【回帰係数】\n"
     ]
    },
    {
     "data": {
      "text/html": [
       "<div>\n",
       "<style scoped>\n",
       "    .dataframe tbody tr th:only-of-type {\n",
       "        vertical-align: middle;\n",
       "    }\n",
       "\n",
       "    .dataframe tbody tr th {\n",
       "        vertical-align: top;\n",
       "    }\n",
       "\n",
       "    .dataframe thead th {\n",
       "        text-align: right;\n",
       "    }\n",
       "</style>\n",
       "<table border=\"1\" class=\"dataframe\">\n",
       "  <thead>\n",
       "    <tr style=\"text-align: right;\">\n",
       "      <th></th>\n",
       "      <th>col_name</th>\n",
       "      <th>coefficient</th>\n",
       "    </tr>\n",
       "  </thead>\n",
       "  <tbody>\n",
       "    <tr>\n",
       "      <th>2</th>\n",
       "      <td>低下量合計</td>\n",
       "      <td>-0.008156</td>\n",
       "    </tr>\n",
       "    <tr>\n",
       "      <th>0</th>\n",
       "      <td>太陽光絶対値誤差合算(実績-想定)(kWh)</td>\n",
       "      <td>-0.000575</td>\n",
       "    </tr>\n",
       "    <tr>\n",
       "      <th>1</th>\n",
       "      <td>spot_volume(kWh)</td>\n",
       "      <td>0.126665</td>\n",
       "    </tr>\n",
       "  </tbody>\n",
       "</table>\n",
       "</div>"
      ],
      "text/plain": [
       "                 col_name  coefficient\n",
       "2                   低下量合計    -0.008156\n",
       "0  太陽光絶対値誤差合算(実績-想定)(kWh)    -0.000575\n",
       "1        spot_volume(kWh)     0.126665"
      ]
     },
     "metadata": {},
     "output_type": "display_data"
    },
    {
     "name": "stdout",
     "output_type": "stream",
     "text": [
      "【切片】: 0.0008653982727674656\n",
      "【決定係数(訓練)】: 0.01685996026399139\n",
      "【決定係数(テスト)】: 0.018184705578893845\n"
     ]
    }
   ],
   "source": [
    "# 重回帰分析 最小構成\n",
    "files = glob.glob('../../../卒論関連書類/データ/king_history/king_history1/*')\n",
    "version = len(files)-1\n",
    "df_king =pd.read_csv(f'../../../卒論関連書類/データ/king_history/king_history1/king{version}.csv',converters={'DateTime':pd.to_datetime})\n",
    "\n",
    "target =['太陽光絶対値誤差合算(実績-想定)(kWh)',\n",
    "        'spot_volume(kWh)', '低下量合計']\n",
    "df_select =df_king[['gap_price[intra-spot](円/kWh)']+target]\n",
    "df = df_select.dropna()\n",
    "\n",
    "# 標準化\n",
    "scaler = StandardScaler()\n",
    "scaler.fit(np.array(df))\n",
    "df_std = scaler.transform(np.array(df))\n",
    "df_std = pd.DataFrame(df_std,columns=df.columns)\n",
    "\n",
    "# 目的変数(Y)\n",
    "Y = np.array(df_std['gap_price[intra-spot](円/kWh)'])\n",
    "\n",
    "# 説明変数(X)\n",
    "# col_name = ['風力誤差合算(実績-想定)(kWh)(ならし)', '太陽光誤差合算(実績-想定)(kWh)(ならし)', 'spot_volume(kWh)', '低下量合計','広域予備率平均値(%)']\n",
    "X = np.array(df_std[target])\n",
    "\n",
    "\n",
    "# データの分割(訓練データとテストデータ)\n",
    "X_train, X_test, Y_train, Y_test = train_test_split(X, Y, test_size=0.3, random_state=0)\n",
    "\n",
    "# モデル構築　\n",
    "model = LinearRegression()\n",
    " \n",
    "# 学習\n",
    "model.fit(X_train, Y_train)\n",
    "\n",
    "# 回帰係数\n",
    "coef = pd.DataFrame({\"col_name\":np.array(target),\"coefficient\":model.coef_}).sort_values(by='coefficient')\n",
    " \n",
    "# 結果\n",
    "print(\"【回帰係数】\"\n",
    "# , coef\n",
    ")\n",
    "display(coef)\n",
    "print(\"【切片】:\", model.intercept_)\n",
    "print(\"【決定係数(訓練)】:\", model.score(X_train, Y_train))\n",
    "print(\"【決定係数(テスト)】:\", model.score(X_test, Y_test))"
   ]
  },
  {
   "cell_type": "code",
   "execution_count": 9,
   "metadata": {},
   "outputs": [
    {
     "data": {
      "text/plain": [
       "Index(['DateTime', 'intra_price(円/kWh)', 'spot_price(円/kWh)',\n",
       "       'gap_price[intra-spot](円/kWh)', 'intra_volume（MWh/h）',\n",
       "       'spot_volume(kWh)', '北電太陽光想定(kWh)', '北電風力想定(kWh)', '北電太陽光実績(kWh)',\n",
       "       '北電風力実績(kWh)', '九電太陽光想定(kWh)', '九電太陽光実績(kWh)', '九電風力想定(kWh)',\n",
       "       '九電風力実績(kWh)', '東電太陽光想定(kWh)', '東電太陽光実績(kWh)', '東電風力想定(kWh)',\n",
       "       '東電風力実績(kWh)', '関電太陽光想定(kWh)', '関電太陽光実績(kWh)', '関電風力想定(kWh)',\n",
       "       '関電風力実績(kWh)', '中国太陽光想定(kWh)', '中国風力想定(kWh)', '中国太陽光実績(kWh)',\n",
       "       '中国風力実績(kWh)', '北海道予備率(%)', '東北予備率(%)', '東京予備率(%)', '中部予備率(%)',\n",
       "       '北陸予備率(%)', '関西予備率(%)', '中国予備率(%)', '四国予備率(%)', '九州予備率(%)', '認可出力合計',\n",
       "       '低下量合計', '停止・低下ユニット数合計', '北電太陽光error(実績-想定)(kWh)',\n",
       "       '北電風力error(実績-想定)(kWh)', '九電太陽光error(実績-想定)(kWh)',\n",
       "       '九電風力error(実績-想定)(kWh)', '東電太陽光error(実績-想定)(kWh)',\n",
       "       '東電風力error(実績-想定)(kWh)', '関電太陽光error(実績-想定)(kWh)',\n",
       "       '関電風力error(実績-想定)(kWh)', '中国太陽光error(実績-想定)(kWh)',\n",
       "       '中国風力error(実績-想定)(kWh)', '絶対値北電太陽光error(実績-想定)(kWh)',\n",
       "       '絶対値北電風力error(実績-想定)(kWh)', '絶対値九電太陽光error(実績-想定)(kWh)',\n",
       "       '絶対値九電風力error(実績-想定)(kWh)', '絶対値東電太陽光error(実績-想定)(kWh)',\n",
       "       '絶対値東電風力error(実績-想定)(kWh)', '絶対値関電太陽光error(実績-想定)(kWh)',\n",
       "       '絶対値関電風力error(実績-想定)(kWh)', '絶対値中国太陽光error(実績-想定)(kWh)',\n",
       "       '絶対値中国風力error(実績-想定)(kWh)', '太陽光誤差合算(実績-想定)(kWh)(ならし)',\n",
       "       '風力誤差合算(実績-想定)(kWh)(ならし)', '太陽光絶対値誤差合算(実績-想定)(kWh)',\n",
       "       '風力絶対値誤差合算(実績-想定)(kWh)', '広域予備率平均値(%)'],\n",
       "      dtype='object')"
      ]
     },
     "execution_count": 9,
     "metadata": {},
     "output_type": "execute_result"
    }
   ],
   "source": [
    "df_king.columns"
   ]
  },
  {
   "cell_type": "code",
   "execution_count": null,
   "metadata": {},
   "outputs": [],
   "source": []
  },
  {
   "cell_type": "code",
   "execution_count": 10,
   "metadata": {},
   "outputs": [
    {
     "name": "stdout",
     "output_type": "stream",
     "text": [
      "【回帰係数】\n"
     ]
    },
    {
     "data": {
      "text/html": [
       "<div>\n",
       "<style scoped>\n",
       "    .dataframe tbody tr th:only-of-type {\n",
       "        vertical-align: middle;\n",
       "    }\n",
       "\n",
       "    .dataframe tbody tr th {\n",
       "        vertical-align: top;\n",
       "    }\n",
       "\n",
       "    .dataframe thead th {\n",
       "        text-align: right;\n",
       "    }\n",
       "</style>\n",
       "<table border=\"1\" class=\"dataframe\">\n",
       "  <thead>\n",
       "    <tr style=\"text-align: right;\">\n",
       "      <th></th>\n",
       "      <th>col_name</th>\n",
       "      <th>coefficient</th>\n",
       "    </tr>\n",
       "  </thead>\n",
       "  <tbody>\n",
       "    <tr>\n",
       "      <th>2</th>\n",
       "      <td>低下量合計</td>\n",
       "      <td>-0.067975</td>\n",
       "    </tr>\n",
       "    <tr>\n",
       "      <th>3</th>\n",
       "      <td>風力絶対値誤差合算(実績-想定)(kWh)</td>\n",
       "      <td>0.024017</td>\n",
       "    </tr>\n",
       "    <tr>\n",
       "      <th>0</th>\n",
       "      <td>太陽光絶対値誤差合算(実績-想定)(kWh)</td>\n",
       "      <td>0.051571</td>\n",
       "    </tr>\n",
       "    <tr>\n",
       "      <th>4</th>\n",
       "      <td>広域予備率平均値(%)</td>\n",
       "      <td>0.059599</td>\n",
       "    </tr>\n",
       "    <tr>\n",
       "      <th>1</th>\n",
       "      <td>spot_volume(kWh)</td>\n",
       "      <td>0.202541</td>\n",
       "    </tr>\n",
       "  </tbody>\n",
       "</table>\n",
       "</div>"
      ],
      "text/plain": [
       "                 col_name  coefficient\n",
       "2                   低下量合計    -0.067975\n",
       "3   風力絶対値誤差合算(実績-想定)(kWh)     0.024017\n",
       "0  太陽光絶対値誤差合算(実績-想定)(kWh)     0.051571\n",
       "4             広域予備率平均値(%)     0.059599\n",
       "1        spot_volume(kWh)     0.202541"
      ]
     },
     "metadata": {},
     "output_type": "display_data"
    },
    {
     "name": "stdout",
     "output_type": "stream",
     "text": [
      "【切片】: 0.005323512002293779\n",
      "【決定係数(訓練)】: 0.057322814215998386\n",
      "【決定係数(テスト)】: 0.046746839909513005\n"
     ]
    }
   ],
   "source": [
    "# 重回帰分析 最小構成\n",
    "files = glob.glob('../../../卒論関連書類/データ/king_history/king_history1/*')\n",
    "version = len(files)-1\n",
    "df_king =pd.read_csv(f'../../../卒論関連書類/データ/king_history/king_history1/king{version}.csv',converters={'DateTime':pd.to_datetime})\n",
    "\n",
    "target =['太陽光絶対値誤差合算(実績-想定)(kWh)',\n",
    "        'spot_volume(kWh)', '低下量合計', '風力絶対値誤差合算(実績-想定)(kWh)', '広域予備率平均値(%)']\n",
    "df_select =df_king[['gap_price[intra-spot](円/kWh)']+target]\n",
    "df = df_select.dropna()\n",
    "\n",
    "# 標準化\n",
    "scaler = StandardScaler()\n",
    "scaler.fit(np.array(df))\n",
    "df_std = scaler.transform(np.array(df))\n",
    "df_std = pd.DataFrame(df_std,columns=df.columns)\n",
    "\n",
    "# 目的変数(Y)\n",
    "Y = np.array(df_std['gap_price[intra-spot](円/kWh)'])\n",
    "\n",
    "# 説明変数(X)\n",
    "# col_name = ['風力誤差合算(実績-想定)(kWh)(ならし)', '太陽光誤差合算(実績-想定)(kWh)(ならし)', 'spot_volume(kWh)', '低下量合計','広域予備率平均値(%)']\n",
    "X = np.array(df_std[target])\n",
    "\n",
    "\n",
    "# データの分割(訓練データとテストデータ)\n",
    "X_train, X_test, Y_train, Y_test = train_test_split(X, Y, test_size=0.3, random_state=0)\n",
    "\n",
    "# モデル構築　\n",
    "model = LinearRegression()\n",
    " \n",
    "# 学習\n",
    "model.fit(X_train, Y_train)\n",
    "\n",
    "# 回帰係数\n",
    "coef = pd.DataFrame({\"col_name\":np.array(target),\"coefficient\":model.coef_}).sort_values(by='coefficient')\n",
    " \n",
    "# 結果\n",
    "print(\"【回帰係数】\"\n",
    "# , coef\n",
    ")\n",
    "display(coef)\n",
    "print(\"【切片】:\", model.intercept_)\n",
    "print(\"【決定係数(訓練)】:\", model.score(X_train, Y_train))\n",
    "print(\"【決定係数(テスト)】:\", model.score(X_test, Y_test))"
   ]
  },
  {
   "cell_type": "code",
   "execution_count": null,
   "metadata": {},
   "outputs": [],
   "source": []
  },
  {
   "cell_type": "code",
   "execution_count": null,
   "metadata": {},
   "outputs": [],
   "source": []
  },
  {
   "cell_type": "code",
   "execution_count": null,
   "metadata": {},
   "outputs": [],
   "source": []
  },
  {
   "cell_type": "code",
   "execution_count": null,
   "metadata": {},
   "outputs": [],
   "source": []
  },
  {
   "cell_type": "code",
   "execution_count": null,
   "metadata": {},
   "outputs": [],
   "source": []
  }
 ],
 "metadata": {
  "kernelspec": {
   "display_name": "DS385",
   "language": "python",
   "name": "python3"
  },
  "language_info": {
   "codemirror_mode": {
    "name": "ipython",
    "version": 3
   },
   "file_extension": ".py",
   "mimetype": "text/x-python",
   "name": "python",
   "nbconvert_exporter": "python",
   "pygments_lexer": "ipython3",
   "version": "3.8.13"
  },
  "orig_nbformat": 4,
  "vscode": {
   "interpreter": {
    "hash": "7d8d345b9f4de236208f87b7182efc63140f4beb7a3bc51bed98fee98cfef238"
   }
  }
 },
 "nbformat": 4,
 "nbformat_minor": 2
}
