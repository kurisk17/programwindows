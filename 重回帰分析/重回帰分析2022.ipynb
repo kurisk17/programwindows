{
 "cells": [
  {
   "cell_type": "code",
   "execution_count": 5,
   "metadata": {},
   "outputs": [],
   "source": [
    "import pandas as pd\n",
    "import numpy as np\n",
    "import os\n",
    "import datetime as dt\n",
    "import calendar\n",
    "from matplotlib import pyplot as plt\n",
    "import scipy.stats as stats\n",
    "import glob\n",
    "\n",
    "from sklearn.model_selection import train_test_split\n",
    "from sklearn.linear_model import LinearRegression\n",
    "from sklearn.preprocessing import StandardScaler\n",
    "from sklearn.linear_model import Ridge"
   ]
  },
  {
   "cell_type": "code",
   "execution_count": null,
   "metadata": {},
   "outputs": [],
   "source": []
  },
  {
   "cell_type": "code",
   "execution_count": 4,
   "metadata": {},
   "outputs": [
    {
     "data": {
      "text/plain": [
       "20"
      ]
     },
     "execution_count": 4,
     "metadata": {},
     "output_type": "execute_result"
    }
   ],
   "source": [
    "# 重回帰分析　広域予備率あり\n",
    "files = glob.glob('../../../卒論関連書類/データ/king_history/king_history1/*')\n",
    "len(files)"
   ]
  },
  {
   "cell_type": "code",
   "execution_count": 6,
   "metadata": {},
   "outputs": [
    {
     "name": "stdout",
     "output_type": "stream",
     "text": [
      "【回帰係数】\n"
     ]
    },
    {
     "name": "stderr",
     "output_type": "stream",
     "text": [
      "C:\\Users\\Annex Rakyu\\AppData\\Local\\Temp\\ipykernel_24252\\2644332873.py:10: SettingWithCopyWarning: \n",
      "A value is trying to be set on a copy of a slice from a DataFrame.\n",
      "Try using .loc[row_indexer,col_indexer] = value instead\n",
      "\n",
      "See the caveats in the documentation: https://pandas.pydata.org/pandas-docs/stable/user_guide/indexing.html#returning-a-view-versus-a-copy\n",
      "  df['intra_volume（MWh/h）']=df['intra_volume（MWh/h）']*1000/2\n",
      "c:\\Users\\Annex Rakyu\\.conda\\envs\\DS385\\lib\\site-packages\\sklearn\\linear_model\\_base.py:148: FutureWarning: 'normalize' was deprecated in version 1.0 and will be removed in 1.2. Please leave the normalize parameter to its default value to silence this warning. The default behavior of this estimator is to not do any normalization. If normalization is needed please use sklearn.preprocessing.StandardScaler instead.\n",
      "  warnings.warn(\n"
     ]
    },
    {
     "data": {
      "text/html": [
       "<div>\n",
       "<style scoped>\n",
       "    .dataframe tbody tr th:only-of-type {\n",
       "        vertical-align: middle;\n",
       "    }\n",
       "\n",
       "    .dataframe tbody tr th {\n",
       "        vertical-align: top;\n",
       "    }\n",
       "\n",
       "    .dataframe thead th {\n",
       "        text-align: right;\n",
       "    }\n",
       "</style>\n",
       "<table border=\"1\" class=\"dataframe\">\n",
       "  <thead>\n",
       "    <tr style=\"text-align: right;\">\n",
       "      <th></th>\n",
       "      <th>col_name</th>\n",
       "      <th>coefficient</th>\n",
       "    </tr>\n",
       "  </thead>\n",
       "  <tbody>\n",
       "    <tr>\n",
       "      <th>2</th>\n",
       "      <td>低下量合計</td>\n",
       "      <td>-0.014244</td>\n",
       "    </tr>\n",
       "    <tr>\n",
       "      <th>0</th>\n",
       "      <td>太陽光絶対値誤差合算(実績-想定)(kWh)</td>\n",
       "      <td>0.004133</td>\n",
       "    </tr>\n",
       "    <tr>\n",
       "      <th>1</th>\n",
       "      <td>spot_volume(kWh)</td>\n",
       "      <td>0.085854</td>\n",
       "    </tr>\n",
       "    <tr>\n",
       "      <th>3</th>\n",
       "      <td>intra_volume（MWh/h）</td>\n",
       "      <td>0.122036</td>\n",
       "    </tr>\n",
       "  </tbody>\n",
       "</table>\n",
       "</div>"
      ],
      "text/plain": [
       "                 col_name  coefficient\n",
       "2                   低下量合計    -0.014244\n",
       "0  太陽光絶対値誤差合算(実績-想定)(kWh)     0.004133\n",
       "1        spot_volume(kWh)     0.085854\n",
       "3     intra_volume（MWh/h）     0.122036"
      ]
     },
     "metadata": {},
     "output_type": "display_data"
    },
    {
     "name": "stdout",
     "output_type": "stream",
     "text": [
      "【切片】: 0.0011458208974982308\n",
      "【決定係数(訓練)】: 0.030000278578079853\n",
      "【決定係数(テスト)】: 0.030464668283673557\n"
     ]
    }
   ],
   "source": [
    "# 重回帰分析 正則あり\n",
    "# それぞれの分布は最大値がさだめられていないため、標準化\n",
    "files = glob.glob('../../../卒論関連書類/データ/king_history/king_history1/*')\n",
    "version = len(files)-1\n",
    "df_king =pd.read_csv(f'../../../卒論関連書類/データ/king_history/king_history1/king{version}.csv',converters={'DateTime':pd.to_datetime})\n",
    "\n",
    "target =['太陽光絶対値誤差合算(実績-想定)(kWh)',\n",
    "        'spot_volume(kWh)', '低下量合計','intra_volume（MWh/h）']\n",
    "df_select =df_king[['gap_price[intra-spot](円/kWh)']+target]\n",
    "df = df_select.dropna()\n",
    "df['intra_volume（MWh/h）']=df['intra_volume（MWh/h）']*1000/2 \n",
    "\n",
    "# 標準化\n",
    "scaler = StandardScaler()\n",
    "scaler.fit(np.array(df))\n",
    "df_std = scaler.transform(np.array(df))\n",
    "df_std = pd.DataFrame(df_std,columns=df.columns)\n",
    "\n",
    "# 目的変数(Y)\n",
    "Y = np.array(df_std['gap_price[intra-spot](円/kWh)'])\n",
    "\n",
    "# 説明変数(X)\n",
    "# col_name = ['風力誤差合算(実績-想定)(kWh)(ならし)', '太陽光誤差合算(実績-想定)(kWh)(ならし)', 'spot_volume(kWh)', '低下量合計','広域予備率平均値(%)']\n",
    "X = np.array(df_std[target])\n",
    "\n",
    "\n",
    "# データの分割(訓練データとテストデータ)\n",
    "X_train, X_test, Y_train, Y_test = train_test_split(X, Y, test_size=0.3, random_state=0)\n",
    "\n",
    "# モデル構築　\n",
    "model = Ridge(alpha=1.0, fit_intercept=True, normalize=False, copy_X=True, max_iter=None, tol=0.001, random_state=None)\n",
    " \n",
    "# 学習\n",
    "model.fit(X_train, Y_train)\n",
    "\n",
    "# 回帰係数\n",
    "coef = pd.DataFrame({\"col_name\":np.array(target),\"coefficient\":model.coef_}).sort_values(by='coefficient')\n",
    " \n",
    "# 結果\n",
    "print(\"【回帰係数】\"\n",
    "# , coef\n",
    ")\n",
    "display(coef)\n",
    "print(\"【切片】:\", model.intercept_)\n",
    "print(\"【決定係数(訓練)】:\", model.score(X_train, Y_train))\n",
    "print(\"【決定係数(テスト)】:\", model.score(X_test, Y_test))"
   ]
  },
  {
   "cell_type": "code",
   "execution_count": null,
   "metadata": {},
   "outputs": [],
   "source": []
  },
  {
   "cell_type": "code",
   "execution_count": 3,
   "metadata": {},
   "outputs": [
    {
     "name": "stdout",
     "output_type": "stream",
     "text": [
      "【回帰係数】\n"
     ]
    },
    {
     "name": "stderr",
     "output_type": "stream",
     "text": [
      "C:\\Users\\Annex Rakyu\\AppData\\Local\\Temp\\ipykernel_24252\\26103854.py:10: SettingWithCopyWarning: \n",
      "A value is trying to be set on a copy of a slice from a DataFrame.\n",
      "Try using .loc[row_indexer,col_indexer] = value instead\n",
      "\n",
      "See the caveats in the documentation: https://pandas.pydata.org/pandas-docs/stable/user_guide/indexing.html#returning-a-view-versus-a-copy\n",
      "  df['intra_volume（MWh/h）']=df['intra_volume（MWh/h）']*1000/2\n"
     ]
    },
    {
     "data": {
      "text/html": [
       "<div>\n",
       "<style scoped>\n",
       "    .dataframe tbody tr th:only-of-type {\n",
       "        vertical-align: middle;\n",
       "    }\n",
       "\n",
       "    .dataframe tbody tr th {\n",
       "        vertical-align: top;\n",
       "    }\n",
       "\n",
       "    .dataframe thead th {\n",
       "        text-align: right;\n",
       "    }\n",
       "</style>\n",
       "<table border=\"1\" class=\"dataframe\">\n",
       "  <thead>\n",
       "    <tr style=\"text-align: right;\">\n",
       "      <th></th>\n",
       "      <th>col_name</th>\n",
       "      <th>coefficient</th>\n",
       "    </tr>\n",
       "  </thead>\n",
       "  <tbody>\n",
       "    <tr>\n",
       "      <th>2</th>\n",
       "      <td>低下量合計</td>\n",
       "      <td>-0.014244</td>\n",
       "    </tr>\n",
       "    <tr>\n",
       "      <th>0</th>\n",
       "      <td>太陽光絶対値誤差合算(実績-想定)(kWh)</td>\n",
       "      <td>0.004133</td>\n",
       "    </tr>\n",
       "    <tr>\n",
       "      <th>1</th>\n",
       "      <td>spot_volume(kWh)</td>\n",
       "      <td>0.085855</td>\n",
       "    </tr>\n",
       "    <tr>\n",
       "      <th>3</th>\n",
       "      <td>intra_volume（MWh/h）</td>\n",
       "      <td>0.122038</td>\n",
       "    </tr>\n",
       "  </tbody>\n",
       "</table>\n",
       "</div>"
      ],
      "text/plain": [
       "                 col_name  coefficient\n",
       "2                   低下量合計    -0.014244\n",
       "0  太陽光絶対値誤差合算(実績-想定)(kWh)     0.004133\n",
       "1        spot_volume(kWh)     0.085855\n",
       "3     intra_volume（MWh/h）     0.122038"
      ]
     },
     "metadata": {},
     "output_type": "display_data"
    },
    {
     "name": "stdout",
     "output_type": "stream",
     "text": [
      "【切片】: 0.0011458294829813503\n",
      "【決定係数(訓練)】: 0.030000278583868445\n",
      "【決定係数(テスト)】: 0.030464641318938\n"
     ]
    }
   ],
   "source": [
    "# 重回帰分析 最小構成\n",
    "files = glob.glob('../../../卒論関連書類/データ/king_history/king_history1/*')\n",
    "version = len(files)-1\n",
    "df_king =pd.read_csv(f'../../../卒論関連書類/データ/king_history/king_history1/king{version}.csv',converters={'DateTime':pd.to_datetime})\n",
    "\n",
    "target =['太陽光絶対値誤差合算(実績-想定)(kWh)',\n",
    "        'spot_volume(kWh)', '低下量合計','intra_volume（MWh/h）']\n",
    "df_select =df_king[['gap_price[intra-spot](円/kWh)']+target]\n",
    "df = df_select.dropna()\n",
    "df['intra_volume（MWh/h）']=df['intra_volume（MWh/h）']*1000/2 \n",
    "\n",
    "# 標準化\n",
    "scaler = StandardScaler()\n",
    "scaler.fit(np.array(df))\n",
    "df_std = scaler.transform(np.array(df))\n",
    "df_std = pd.DataFrame(df_std,columns=df.columns)\n",
    "\n",
    "# 目的変数(Y)\n",
    "Y = np.array(df_std['gap_price[intra-spot](円/kWh)'])\n",
    "\n",
    "# 説明変数(X)\n",
    "# col_name = ['風力誤差合算(実績-想定)(kWh)(ならし)', '太陽光誤差合算(実績-想定)(kWh)(ならし)', 'spot_volume(kWh)', '低下量合計','広域予備率平均値(%)']\n",
    "X = np.array(df_std[target])\n",
    "\n",
    "\n",
    "# データの分割(訓練データとテストデータ)\n",
    "X_train, X_test, Y_train, Y_test = train_test_split(X, Y, test_size=0.3, random_state=0)\n",
    "\n",
    "# モデル構築　\n",
    "model = LinearRegression()\n",
    " \n",
    "# 学習\n",
    "model.fit(X_train, Y_train)\n",
    "\n",
    "# 回帰係数\n",
    "coef = pd.DataFrame({\"col_name\":np.array(target),\"coefficient\":model.coef_}).sort_values(by='coefficient')\n",
    " \n",
    "# 結果\n",
    "print(\"【回帰係数】\"\n",
    "# , coef\n",
    ")\n",
    "display(coef)\n",
    "print(\"【切片】:\", model.intercept_)\n",
    "print(\"【決定係数(訓練)】:\", model.score(X_train, Y_train))\n",
    "print(\"【決定係数(テスト)】:\", model.score(X_test, Y_test))"
   ]
  },
  {
   "cell_type": "code",
   "execution_count": 27,
   "metadata": {},
   "outputs": [
    {
     "data": {
      "text/plain": [
       "<matplotlib.legend.Legend at 0x20ba7775670>"
      ]
     },
     "execution_count": 27,
     "metadata": {},
     "output_type": "execute_result"
    },
    {
     "data": {
      "image/png": "[encoded data removed]",
      "text/plain": [
       "<Figure size 640x480 with 1 Axes>"
      ]
     },
     "metadata": {},
     "output_type": "display_data"
    }
   ],
   "source": [
    "plt.rcParams['font.family']='TImes New Roman'\n",
    "plt.plot(list(range(len(Y_test))),Y_test,label='test',color='black')\n",
    "plt.plot(list(range(len(Y_test))),model.predict(X_test),label='predict',color='gray')\n",
    "plt.legend()"
   ]
  },
  {
   "cell_type": "code",
   "execution_count": 20,
   "metadata": {},
   "outputs": [
    {
     "data": {
      "text/plain": [
       "23895"
      ]
     },
     "execution_count": 20,
     "metadata": {},
     "output_type": "execute_result"
    }
   ],
   "source": []
  },
  {
   "cell_type": "code",
   "execution_count": null,
   "metadata": {},
   "outputs": [],
   "source": []
  },
  {
   "cell_type": "code",
   "execution_count": 16,
   "metadata": {},
   "outputs": [],
   "source": [
    "# df_king['intra_volume（MWh/h）']"
   ]
  },
  {
   "cell_type": "code",
   "execution_count": 15,
   "metadata": {},
   "outputs": [],
   "source": [
    "# df['intra_volume（MWh/h）']"
   ]
  },
  {
   "cell_type": "code",
   "execution_count": 10,
   "metadata": {},
   "outputs": [
    {
     "name": "stdout",
     "output_type": "stream",
     "text": [
      "【回帰係数】\n"
     ]
    },
    {
     "data": {
      "text/html": [
       "<div>\n",
       "<style scoped>\n",
       "    .dataframe tbody tr th:only-of-type {\n",
       "        vertical-align: middle;\n",
       "    }\n",
       "\n",
       "    .dataframe tbody tr th {\n",
       "        vertical-align: top;\n",
       "    }\n",
       "\n",
       "    .dataframe thead th {\n",
       "        text-align: right;\n",
       "    }\n",
       "</style>\n",
       "<table border=\"1\" class=\"dataframe\">\n",
       "  <thead>\n",
       "    <tr style=\"text-align: right;\">\n",
       "      <th></th>\n",
       "      <th>col_name</th>\n",
       "      <th>coefficient</th>\n",
       "    </tr>\n",
       "  </thead>\n",
       "  <tbody>\n",
       "    <tr>\n",
       "      <th>2</th>\n",
       "      <td>低下量合計</td>\n",
       "      <td>-0.067975</td>\n",
       "    </tr>\n",
       "    <tr>\n",
       "      <th>3</th>\n",
       "      <td>風力絶対値誤差合算(実績-想定)(kWh)</td>\n",
       "      <td>0.024017</td>\n",
       "    </tr>\n",
       "    <tr>\n",
       "      <th>0</th>\n",
       "      <td>太陽光絶対値誤差合算(実績-想定)(kWh)</td>\n",
       "      <td>0.051571</td>\n",
       "    </tr>\n",
       "    <tr>\n",
       "      <th>4</th>\n",
       "      <td>広域予備率平均値(%)</td>\n",
       "      <td>0.059599</td>\n",
       "    </tr>\n",
       "    <tr>\n",
       "      <th>1</th>\n",
       "      <td>spot_volume(kWh)</td>\n",
       "      <td>0.202541</td>\n",
       "    </tr>\n",
       "  </tbody>\n",
       "</table>\n",
       "</div>"
      ],
      "text/plain": [
       "                 col_name  coefficient\n",
       "2                   低下量合計    -0.067975\n",
       "3   風力絶対値誤差合算(実績-想定)(kWh)     0.024017\n",
       "0  太陽光絶対値誤差合算(実績-想定)(kWh)     0.051571\n",
       "4             広域予備率平均値(%)     0.059599\n",
       "1        spot_volume(kWh)     0.202541"
      ]
     },
     "metadata": {},
     "output_type": "display_data"
    },
    {
     "name": "stdout",
     "output_type": "stream",
     "text": [
      "【切片】: 0.005323512002293779\n",
      "【決定係数(訓練)】: 0.057322814215998386\n",
      "【決定係数(テスト)】: 0.046746839909513005\n"
     ]
    }
   ],
   "source": [
    "# 重回帰分析 最小構成\n",
    "files = glob.glob('../../../卒論関連書類/データ/king_history/king_history1/*')\n",
    "version = len(files)-1\n",
    "df_king =pd.read_csv(f'../../../卒論関連書類/データ/king_history/king_history1/king{version}.csv',converters={'DateTime':pd.to_datetime})\n",
    "\n",
    "target =['太陽光絶対値誤差合算(実績-想定)(kWh)',\n",
    "        'spot_volume(kWh)', '低下量合計', '風力絶対値誤差合算(実績-想定)(kWh)', '広域予備率平均値(%)']\n",
    "df_select =df_king[['gap_price[intra-spot](円/kWh)']+target]\n",
    "df = df_select.dropna()\n",
    "\n",
    "# 標準化\n",
    "scaler = StandardScaler()\n",
    "scaler.fit(np.array(df))\n",
    "df_std = scaler.transform(np.array(df))\n",
    "df_std = pd.DataFrame(df_std,columns=df.columns)\n",
    "\n",
    "# 目的変数(Y)\n",
    "Y = np.array(df_std['gap_price[intra-spot](円/kWh)'])\n",
    "\n",
    "# 説明変数(X)\n",
    "# col_name = ['風力誤差合算(実績-想定)(kWh)(ならし)', '太陽光誤差合算(実績-想定)(kWh)(ならし)', 'spot_volume(kWh)', '低下量合計','広域予備率平均値(%)']\n",
    "X = np.array(df_std[target])\n",
    "\n",
    "\n",
    "# データの分割(訓練データとテストデータ)\n",
    "X_train, X_test, Y_train, Y_test = train_test_split(X, Y, test_size=0.3, random_state=0)\n",
    "\n",
    "# モデル構築　\n",
    "model = LinearRegression()\n",
    " \n",
    "# 学習\n",
    "model.fit(X_train, Y_train)\n",
    "\n",
    "# 回帰係数\n",
    "coef = pd.DataFrame({\"col_name\":np.array(target),\"coefficient\":model.coef_}).sort_values(by='coefficient')\n",
    " \n",
    "# 結果\n",
    "print(\"【回帰係数】\"\n",
    "# , coef\n",
    ")\n",
    "display(coef)\n",
    "print(\"【切片】:\", model.intercept_)\n",
    "print(\"【決定係数(訓練)】:\", model.score(X_train, Y_train))\n",
    "print(\"【決定係数(テスト)】:\", model.score(X_test, Y_test))"
   ]
  },
  {
   "cell_type": "code",
   "execution_count": null,
   "metadata": {},
   "outputs": [],
   "source": []
  },
  {
   "cell_type": "code",
   "execution_count": null,
   "metadata": {},
   "outputs": [],
   "source": []
  },
  {
   "cell_type": "code",
   "execution_count": null,
   "metadata": {},
   "outputs": [],
   "source": []
  },
  {
   "cell_type": "code",
   "execution_count": null,
   "metadata": {},
   "outputs": [],
   "source": []
  },
  {
   "cell_type": "code",
   "execution_count": null,
   "metadata": {},
   "outputs": [],
   "source": []
  }
 ],
 "metadata": {
  "kernelspec": {
   "display_name": "DS385",
   "language": "python",
   "name": "python3"
  },
  "language_info": {
   "codemirror_mode": {
    "name": "ipython",
    "version": 3
   },
   "file_extension": ".py",
   "mimetype": "text/x-python",
   "name": "python",
   "nbconvert_exporter": "python",
   "pygments_lexer": "ipython3",
   "version": "3.8.13"
  },
  "orig_nbformat": 4,
  "vscode": {
   "interpreter": {
    "hash": "7d8d345b9f4de236208f87b7182efc63140f4beb7a3bc51bed98fee98cfef238"
   }
  }
 },
 "nbformat": 4,
 "nbformat_minor": 2
}
