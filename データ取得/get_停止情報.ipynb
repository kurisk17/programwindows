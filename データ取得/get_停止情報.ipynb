{
 "cells": [
  {
   "cell_type": "code",
   "execution_count": null,
   "metadata": {},
   "outputs": [],
   "source": []
  }
 ],
 "metadata": {
  "kernelspec": {
   "display_name": "DSenv385",
   "language": "python",
   "name": "python3"
  },
  "language_info": {
   "name": "python",
   "version": "3.8.5 | packaged by conda-forge | (default, Sep 16 2020, 17:46:27) \n[Clang 11.0.0 ]"
  },
  "orig_nbformat": 4,
  "vscode": {
   "interpreter": {
    "hash": "1b1aaf8a42836e3895a9cd252df1a8ea4976aa90d70af21ad1836309bd18b848"
   }
  }
 },
 "nbformat": 4,
 "nbformat_minor": 2
}
